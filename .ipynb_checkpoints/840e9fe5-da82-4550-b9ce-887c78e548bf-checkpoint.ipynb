{
 "cells": [
  {
   "cell_type": "markdown",
   "metadata": {
    "toc": true
   },
   "source": [
    "<h1>Содержание<span class=\"tocSkip\"></span></h1>\n",
    "</font></a></span></li></ul></li><li><span><a href=\"#Подготовка-данных\" data-toc-modified-id=\"Подготовка-данных-1\"><span class=\"toc-item-num\">1&nbsp;&nbsp;</span>Подготовка данных</a></span><ul class=\"toc-item\"><li><span><a href=\"#Обработка-пропусков-и-дубликатов\" data-toc-modified-id=\"Обработка-пропусков-и-дубликатов-1.1\"><span class=\"toc-item-num\">1.1&nbsp;&nbsp;</span>Обработка пропусков и дубликатов</a></span></li><li><span><a href=\"#Преобразование-категорильных-признаков-в-численные\" data-toc-modified-id=\"Преобразование-категорильных-признаков-в-численные-1.2\"><span class=\"toc-item-num\">1.2&nbsp;&nbsp;</span>Преобразование категорильных признаков в численные</a></span></li><li><span><a href=\"#Разделение-выборки-на-тренировочную,-валидационную-и-тестовую.\" data-toc-modified-id=\"Разделение-выборки-на-тренировочную,-валидационную-и-тестовую.-1.3\"><span class=\"toc-item-num\">1.3&nbsp;&nbsp;</span>Разделение выборки на тренировочную, валидационную и тестовую.</a></span></li><li><span><a href=\"#Масштабирование-признаков\" data-toc-modified-id=\"Масштабирование-признаков-1.4\"><span class=\"toc-item-num\">1.4&nbsp;&nbsp;</span>Масштабирование признаков</a></span></li></ul></li><li><span><a href=\"#Исследование-задачи\" data-toc-modified-id=\"Исследование-задачи-2\"><span class=\"toc-item-num\">2&nbsp;&nbsp;</span>Исследование задачи</a></span><ul class=\"toc-item\"><li><span><a href=\"#Исследование-баланса-классов\" data-toc-modified-id=\"Исследование-баланса-классов-2.1\"><span class=\"toc-item-num\">2.1&nbsp;&nbsp;</span>Исследование баланса классов</a></span></li><li><span><a href=\"#Модель-решающего-дерева\" data-toc-modified-id=\"Модель-решающего-дерева-2.2\"><span class=\"toc-item-num\">2.2&nbsp;&nbsp;</span>Модель решающего дерева</a></span></li><li><span><a href=\"#Модель-случайного-леса\" data-toc-modified-id=\"Модель-случайного-леса-2.3\"><span class=\"toc-item-num\">2.3&nbsp;&nbsp;</span>Модель случайного леса</a></span></li><li><span><a href=\"#Логистическая-регрессия\" data-toc-modified-id=\"Логистическая-регрессия-2.4\"><span class=\"toc-item-num\">2.4&nbsp;&nbsp;</span>Логистическая регрессия</a></span></li><li><span><a href=\"#Общий-вывод\" data-toc-modified-id=\"Общий-вывод-2.5\"><span class=\"toc-item-num\">2.5&nbsp;&nbsp;</span>Общий вывод</a></span></li></ul></li><li><span><a href=\"#Борьба-с-дисбалансом\" data-toc-modified-id=\"Борьба-с-дисбалансом-3\"><span class=\"toc-item-num\">3&nbsp;&nbsp;</span>Борьба с дисбалансом</a></span><ul class=\"toc-item\"><li><span><a href=\"#Увеличение-выборки\" data-toc-modified-id=\"Увеличение-выборки-3.1\"><span class=\"toc-item-num\">3.1&nbsp;&nbsp;</span>Увеличение выборки</a></span></li><li><span><a href=\"#Уменьшение-выборки\" data-toc-modified-id=\"Уменьшение-выборки-3.2\"><span class=\"toc-item-num\">3.2&nbsp;&nbsp;</span>Уменьшение выборки</a></span></li><li><span><a href=\"#Модель-решающего-дерева\" data-toc-modified-id=\"Модель-решающего-дерева-3.3\"><span class=\"toc-item-num\">3.3&nbsp;&nbsp;</span>Модель решающего дерева</a></span></li><li><span><a href=\"#Модель-случайного-леса\" data-toc-modified-id=\"Модель-случайного-леса-3.4\"><span class=\"toc-item-num\">3.4&nbsp;&nbsp;</span>Модель случайного леса</a></span></li><li><span><a href=\"#Логистическая-регрессия\" data-toc-modified-id=\"Логистическая-регрессия-3.5\"><span class=\"toc-item-num\">3.5&nbsp;&nbsp;</span>Логистическая регрессия</a></span></li><li><span><a href=\"#Общий-вывод\" data-toc-modified-id=\"Общий-вывод-3.6\"><span class=\"toc-item-num\">3.6&nbsp;&nbsp;</span>Общий вывод</a></span></li></ul></li><li><span><a href=\"#Тестирование-модели\" data-toc-modified-id=\"Тестирование-модели-4\"><span class=\"toc-item-num\">4&nbsp;&nbsp;</span>Тестирование модели</a></span><ul class=\"toc-item\"><li><span><a href=\"#Метрика-AUC-ROC\" data-toc-modified-id=\"Метрика-AUC-ROC-4.1\"><span class=\"toc-item-num\">4.1&nbsp;&nbsp;</span>Метрика AUC-ROC</a></span></li><li><span><a href=\"#Общие-выводы\" data-toc-modified-id=\"Общие-выводы-4.2\"><span class=\"toc-item-num\">4.2&nbsp;&nbsp;</span>Общие выводы</a></span></li></ul></li><li><span><a href=\"#Чек-лист-готовности-проекта\" data-toc-modified-id=\"Чек-лист-готовности-проекта-5\"><span class=\"toc-item-num\">5&nbsp;&nbsp;</span>Чек-лист готовности проекта</a></span></li></ul></div>"
   ]
  },
  {
   "cell_type": "markdown",
   "metadata": {},
   "source": [
    "# Отток клиентов"
   ]
  },
  {
   "cell_type": "markdown",
   "metadata": {},
   "source": [
    "Из «Бета-Банка» стали уходить клиенты. Каждый месяц. Немного, но заметно. Банковские маркетологи посчитали: сохранять текущих клиентов дешевле, чем привлекать новых.\n",
    "\n",
    "Нужно спрогнозировать, уйдёт клиент из банка в ближайшее время или нет. Вам предоставлены исторические данные о поведении клиентов и расторжении договоров с банком. \n",
    "\n",
    "Постройте модель с предельно большим значением *F1*-меры. Чтобы сдать проект успешно, нужно довести метрику до 0.59. Проверьте *F1*-меру на тестовой выборке самостоятельно.\n",
    "\n",
    "Дополнительно измеряйте *AUC-ROC*, сравнивайте её значение с *F1*-мерой.\n",
    "\n",
    "Источник данных: [https://www.kaggle.com/barelydedicated/bank-customer-churn-modeling](https://www.kaggle.com/barelydedicated/bank-customer-churn-modeling)"
   ]
  },
  {
   "cell_type": "markdown",
   "metadata": {},
   "source": [
    "## Подготовка данных"
   ]
  },
  {
   "cell_type": "code",
   "execution_count": 1,
   "metadata": {},
   "outputs": [],
   "source": [
    "import pandas as pd\n",
    "from sklearn.preprocessing import OrdinalEncoder\n",
    "from sklearn.preprocessing import StandardScaler\n",
    "from sklearn.model_selection import train_test_split\n",
    "from sklearn.tree import DecisionTreeClassifier\n",
    "from sklearn.ensemble import RandomForestClassifier\n",
    "from sklearn.linear_model import LogisticRegression\n",
    "from sklearn.metrics import f1_score\n",
    "from sklearn.utils import shuffle\n",
    "import matplotlib.pyplot as plt\n",
    "from sklearn.metrics import precision_recall_curve\n",
    "from sklearn.metrics import roc_auc_score\n",
    "from sklearn.metrics import roc_curve\n",
    "# Настраиваем окружение"
   ]
  },
  {
   "cell_type": "markdown",
   "metadata": {},
   "source": [
    "Прочитаем фаил и проведём первичное знакомство с данными"
   ]
  },
  {
   "cell_type": "code",
   "execution_count": 2,
   "metadata": {},
   "outputs": [
    {
     "data": {
      "text/html": [
       "<div>\n",
       "<style scoped>\n",
       "    .dataframe tbody tr th:only-of-type {\n",
       "        vertical-align: middle;\n",
       "    }\n",
       "\n",
       "    .dataframe tbody tr th {\n",
       "        vertical-align: top;\n",
       "    }\n",
       "\n",
       "    .dataframe thead th {\n",
       "        text-align: right;\n",
       "    }\n",
       "</style>\n",
       "<table border=\"1\" class=\"dataframe\">\n",
       "  <thead>\n",
       "    <tr style=\"text-align: right;\">\n",
       "      <th></th>\n",
       "      <th>RowNumber</th>\n",
       "      <th>CustomerId</th>\n",
       "      <th>Surname</th>\n",
       "      <th>CreditScore</th>\n",
       "      <th>Geography</th>\n",
       "      <th>Gender</th>\n",
       "      <th>Age</th>\n",
       "      <th>Tenure</th>\n",
       "      <th>Balance</th>\n",
       "      <th>NumOfProducts</th>\n",
       "      <th>HasCrCard</th>\n",
       "      <th>IsActiveMember</th>\n",
       "      <th>EstimatedSalary</th>\n",
       "      <th>Exited</th>\n",
       "    </tr>\n",
       "  </thead>\n",
       "  <tbody>\n",
       "    <tr>\n",
       "      <th>0</th>\n",
       "      <td>1</td>\n",
       "      <td>15634602</td>\n",
       "      <td>Hargrave</td>\n",
       "      <td>619</td>\n",
       "      <td>France</td>\n",
       "      <td>Female</td>\n",
       "      <td>42</td>\n",
       "      <td>2.0</td>\n",
       "      <td>0.00</td>\n",
       "      <td>1</td>\n",
       "      <td>1</td>\n",
       "      <td>1</td>\n",
       "      <td>101348.88</td>\n",
       "      <td>1</td>\n",
       "    </tr>\n",
       "    <tr>\n",
       "      <th>1</th>\n",
       "      <td>2</td>\n",
       "      <td>15647311</td>\n",
       "      <td>Hill</td>\n",
       "      <td>608</td>\n",
       "      <td>Spain</td>\n",
       "      <td>Female</td>\n",
       "      <td>41</td>\n",
       "      <td>1.0</td>\n",
       "      <td>83807.86</td>\n",
       "      <td>1</td>\n",
       "      <td>0</td>\n",
       "      <td>1</td>\n",
       "      <td>112542.58</td>\n",
       "      <td>0</td>\n",
       "    </tr>\n",
       "    <tr>\n",
       "      <th>2</th>\n",
       "      <td>3</td>\n",
       "      <td>15619304</td>\n",
       "      <td>Onio</td>\n",
       "      <td>502</td>\n",
       "      <td>France</td>\n",
       "      <td>Female</td>\n",
       "      <td>42</td>\n",
       "      <td>8.0</td>\n",
       "      <td>159660.80</td>\n",
       "      <td>3</td>\n",
       "      <td>1</td>\n",
       "      <td>0</td>\n",
       "      <td>113931.57</td>\n",
       "      <td>1</td>\n",
       "    </tr>\n",
       "    <tr>\n",
       "      <th>3</th>\n",
       "      <td>4</td>\n",
       "      <td>15701354</td>\n",
       "      <td>Boni</td>\n",
       "      <td>699</td>\n",
       "      <td>France</td>\n",
       "      <td>Female</td>\n",
       "      <td>39</td>\n",
       "      <td>1.0</td>\n",
       "      <td>0.00</td>\n",
       "      <td>2</td>\n",
       "      <td>0</td>\n",
       "      <td>0</td>\n",
       "      <td>93826.63</td>\n",
       "      <td>0</td>\n",
       "    </tr>\n",
       "    <tr>\n",
       "      <th>4</th>\n",
       "      <td>5</td>\n",
       "      <td>15737888</td>\n",
       "      <td>Mitchell</td>\n",
       "      <td>850</td>\n",
       "      <td>Spain</td>\n",
       "      <td>Female</td>\n",
       "      <td>43</td>\n",
       "      <td>2.0</td>\n",
       "      <td>125510.82</td>\n",
       "      <td>1</td>\n",
       "      <td>1</td>\n",
       "      <td>1</td>\n",
       "      <td>79084.10</td>\n",
       "      <td>0</td>\n",
       "    </tr>\n",
       "  </tbody>\n",
       "</table>\n",
       "</div>"
      ],
      "text/plain": [
       "   RowNumber  CustomerId   Surname  CreditScore Geography  Gender  Age  \\\n",
       "0          1    15634602  Hargrave          619    France  Female   42   \n",
       "1          2    15647311      Hill          608     Spain  Female   41   \n",
       "2          3    15619304      Onio          502    France  Female   42   \n",
       "3          4    15701354      Boni          699    France  Female   39   \n",
       "4          5    15737888  Mitchell          850     Spain  Female   43   \n",
       "\n",
       "   Tenure    Balance  NumOfProducts  HasCrCard  IsActiveMember  \\\n",
       "0     2.0       0.00              1          1               1   \n",
       "1     1.0   83807.86              1          0               1   \n",
       "2     8.0  159660.80              3          1               0   \n",
       "3     1.0       0.00              2          0               0   \n",
       "4     2.0  125510.82              1          1               1   \n",
       "\n",
       "   EstimatedSalary  Exited  \n",
       "0        101348.88       1  \n",
       "1        112542.58       0  \n",
       "2        113931.57       1  \n",
       "3         93826.63       0  \n",
       "4         79084.10       0  "
      ]
     },
     "execution_count": 2,
     "metadata": {},
     "output_type": "execute_result"
    }
   ],
   "source": [
    "df = pd.read_csv('Churn.csv')\n",
    "df.head(5)\n",
    "# Читаем фаил и знакомимся с данными"
   ]
  },
  {
   "cell_type": "code",
   "execution_count": 3,
   "metadata": {},
   "outputs": [
    {
     "name": "stdout",
     "output_type": "stream",
     "text": [
      "<class 'pandas.core.frame.DataFrame'>\n",
      "RangeIndex: 10000 entries, 0 to 9999\n",
      "Data columns (total 14 columns):\n",
      " #   Column           Non-Null Count  Dtype  \n",
      "---  ------           --------------  -----  \n",
      " 0   RowNumber        10000 non-null  int64  \n",
      " 1   CustomerId       10000 non-null  int64  \n",
      " 2   Surname          10000 non-null  object \n",
      " 3   CreditScore      10000 non-null  int64  \n",
      " 4   Geography        10000 non-null  object \n",
      " 5   Gender           10000 non-null  object \n",
      " 6   Age              10000 non-null  int64  \n",
      " 7   Tenure           9091 non-null   float64\n",
      " 8   Balance          10000 non-null  float64\n",
      " 9   NumOfProducts    10000 non-null  int64  \n",
      " 10  HasCrCard        10000 non-null  int64  \n",
      " 11  IsActiveMember   10000 non-null  int64  \n",
      " 12  EstimatedSalary  10000 non-null  float64\n",
      " 13  Exited           10000 non-null  int64  \n",
      "dtypes: float64(3), int64(8), object(3)\n",
      "memory usage: 1.1+ MB\n"
     ]
    }
   ],
   "source": [
    "df.info()"
   ]
  },
  {
   "cell_type": "markdown",
   "metadata": {},
   "source": [
    "**Вывод**\n",
    "\n",
    "Таблица состоит из 10000 строк и 14 столбцов.\n",
    "Выделен целевой признак и остальные признаки.\n",
    "\n",
    "Признаки\n",
    "\n",
    "- RowNumber — индекс строки в данных\n",
    "- CustomerId — уникальный идентификатор клиента\n",
    "- Surname — фамилия\n",
    "- CreditScore — кредитный рейтинг\n",
    "- Geography — страна проживания\n",
    "- Gender — пол\n",
    "- Age — возраст\n",
    "- Tenure — сколько лет человек является клиентом банка\n",
    "- Balance — баланс на счёте\n",
    "- NumOfProducts — количество продуктов банка, используемых клиентом\n",
    "- HasCrCard — наличие кредитной карты\n",
    "- IsActiveMember — активность клиента\n",
    "- EstimatedSalary — предполагаемая зарплата\n",
    "\n",
    "Целевой признак\n",
    "- Exited — факт ухода клиента\n",
    "\n",
    "В будущем для обучения модели из признаков уберём \"RowNumber\", \"CustomerId\" и \"Surname\", которые явно не влияют на факт ухода клиента из банка. "
   ]
  },
  {
   "cell_type": "markdown",
   "metadata": {},
   "source": [
    "### Обработка пропусков и дубликатов"
   ]
  },
  {
   "cell_type": "markdown",
   "metadata": {},
   "source": [
    "Провеим наличие пропусков"
   ]
  },
  {
   "cell_type": "code",
   "execution_count": 4,
   "metadata": {},
   "outputs": [
    {
     "data": {
      "text/plain": [
       "RowNumber            0\n",
       "CustomerId           0\n",
       "Surname              0\n",
       "CreditScore          0\n",
       "Geography            0\n",
       "Gender               0\n",
       "Age                  0\n",
       "Tenure             909\n",
       "Balance              0\n",
       "NumOfProducts        0\n",
       "HasCrCard            0\n",
       "IsActiveMember       0\n",
       "EstimatedSalary      0\n",
       "Exited               0\n",
       "dtype: int64"
      ]
     },
     "execution_count": 4,
     "metadata": {},
     "output_type": "execute_result"
    }
   ],
   "source": [
    "df.isna().sum()\n",
    "# Проверяем пропуски"
   ]
  },
  {
   "cell_type": "markdown",
   "metadata": {},
   "source": [
    "Видим 909 пропусков в столбце \"Tenure\", возмжно они образовались из за того что это новые клиенты и у них не записалось значение 0.0. Заполним пропуски нулём. "
   ]
  },
  {
   "cell_type": "code",
   "execution_count": 5,
   "metadata": {},
   "outputs": [
    {
     "data": {
      "text/plain": [
       "RowNumber          0\n",
       "CustomerId         0\n",
       "Surname            0\n",
       "CreditScore        0\n",
       "Geography          0\n",
       "Gender             0\n",
       "Age                0\n",
       "Tenure             0\n",
       "Balance            0\n",
       "NumOfProducts      0\n",
       "HasCrCard          0\n",
       "IsActiveMember     0\n",
       "EstimatedSalary    0\n",
       "Exited             0\n",
       "dtype: int64"
      ]
     },
     "execution_count": 5,
     "metadata": {},
     "output_type": "execute_result"
    }
   ],
   "source": [
    "df['Tenure'] = df['Tenure'].fillna(0)\n",
    "df.isna().sum()\n",
    "# Заполняем пропуски нулём"
   ]
  },
  {
   "cell_type": "markdown",
   "metadata": {},
   "source": [
    "Теперь проверим наличие дубликатов"
   ]
  },
  {
   "cell_type": "code",
   "execution_count": 6,
   "metadata": {},
   "outputs": [
    {
     "data": {
      "text/plain": [
       "0"
      ]
     },
     "execution_count": 6,
     "metadata": {},
     "output_type": "execute_result"
    }
   ],
   "source": [
    "df.duplicated().sum()\n",
    "# Проверяем наличие дубликатов"
   ]
  },
  {
   "cell_type": "markdown",
   "metadata": {},
   "source": [
    "**Вывод** \n",
    "\n",
    "Пропуски заполнены дубликатов не обнаружено."
   ]
  },
  {
   "cell_type": "markdown",
   "metadata": {},
   "source": [
    "### Преобразование категорильных признаков в численные"
   ]
  },
  {
   "cell_type": "markdown",
   "metadata": {},
   "source": [
    "Для начала удалим ранее отмеченные столбцы."
   ]
  },
  {
   "cell_type": "code",
   "execution_count": 7,
   "metadata": {},
   "outputs": [
    {
     "data": {
      "text/html": [
       "<div>\n",
       "<style scoped>\n",
       "    .dataframe tbody tr th:only-of-type {\n",
       "        vertical-align: middle;\n",
       "    }\n",
       "\n",
       "    .dataframe tbody tr th {\n",
       "        vertical-align: top;\n",
       "    }\n",
       "\n",
       "    .dataframe thead th {\n",
       "        text-align: right;\n",
       "    }\n",
       "</style>\n",
       "<table border=\"1\" class=\"dataframe\">\n",
       "  <thead>\n",
       "    <tr style=\"text-align: right;\">\n",
       "      <th></th>\n",
       "      <th>CreditScore</th>\n",
       "      <th>Geography</th>\n",
       "      <th>Gender</th>\n",
       "      <th>Age</th>\n",
       "      <th>Tenure</th>\n",
       "      <th>Balance</th>\n",
       "      <th>NumOfProducts</th>\n",
       "      <th>HasCrCard</th>\n",
       "      <th>IsActiveMember</th>\n",
       "      <th>EstimatedSalary</th>\n",
       "      <th>Exited</th>\n",
       "    </tr>\n",
       "  </thead>\n",
       "  <tbody>\n",
       "    <tr>\n",
       "      <th>0</th>\n",
       "      <td>619</td>\n",
       "      <td>France</td>\n",
       "      <td>Female</td>\n",
       "      <td>42</td>\n",
       "      <td>2.0</td>\n",
       "      <td>0.00</td>\n",
       "      <td>1</td>\n",
       "      <td>1</td>\n",
       "      <td>1</td>\n",
       "      <td>101348.88</td>\n",
       "      <td>1</td>\n",
       "    </tr>\n",
       "    <tr>\n",
       "      <th>1</th>\n",
       "      <td>608</td>\n",
       "      <td>Spain</td>\n",
       "      <td>Female</td>\n",
       "      <td>41</td>\n",
       "      <td>1.0</td>\n",
       "      <td>83807.86</td>\n",
       "      <td>1</td>\n",
       "      <td>0</td>\n",
       "      <td>1</td>\n",
       "      <td>112542.58</td>\n",
       "      <td>0</td>\n",
       "    </tr>\n",
       "    <tr>\n",
       "      <th>2</th>\n",
       "      <td>502</td>\n",
       "      <td>France</td>\n",
       "      <td>Female</td>\n",
       "      <td>42</td>\n",
       "      <td>8.0</td>\n",
       "      <td>159660.80</td>\n",
       "      <td>3</td>\n",
       "      <td>1</td>\n",
       "      <td>0</td>\n",
       "      <td>113931.57</td>\n",
       "      <td>1</td>\n",
       "    </tr>\n",
       "    <tr>\n",
       "      <th>3</th>\n",
       "      <td>699</td>\n",
       "      <td>France</td>\n",
       "      <td>Female</td>\n",
       "      <td>39</td>\n",
       "      <td>1.0</td>\n",
       "      <td>0.00</td>\n",
       "      <td>2</td>\n",
       "      <td>0</td>\n",
       "      <td>0</td>\n",
       "      <td>93826.63</td>\n",
       "      <td>0</td>\n",
       "    </tr>\n",
       "    <tr>\n",
       "      <th>4</th>\n",
       "      <td>850</td>\n",
       "      <td>Spain</td>\n",
       "      <td>Female</td>\n",
       "      <td>43</td>\n",
       "      <td>2.0</td>\n",
       "      <td>125510.82</td>\n",
       "      <td>1</td>\n",
       "      <td>1</td>\n",
       "      <td>1</td>\n",
       "      <td>79084.10</td>\n",
       "      <td>0</td>\n",
       "    </tr>\n",
       "  </tbody>\n",
       "</table>\n",
       "</div>"
      ],
      "text/plain": [
       "   CreditScore Geography  Gender  Age  Tenure    Balance  NumOfProducts  \\\n",
       "0          619    France  Female   42     2.0       0.00              1   \n",
       "1          608     Spain  Female   41     1.0   83807.86              1   \n",
       "2          502    France  Female   42     8.0  159660.80              3   \n",
       "3          699    France  Female   39     1.0       0.00              2   \n",
       "4          850     Spain  Female   43     2.0  125510.82              1   \n",
       "\n",
       "   HasCrCard  IsActiveMember  EstimatedSalary  Exited  \n",
       "0          1               1        101348.88       1  \n",
       "1          0               1        112542.58       0  \n",
       "2          1               0        113931.57       1  \n",
       "3          0               0         93826.63       0  \n",
       "4          1               1         79084.10       0  "
      ]
     },
     "execution_count": 7,
     "metadata": {},
     "output_type": "execute_result"
    }
   ],
   "source": [
    "df_filtered = df.drop(['RowNumber', 'CustomerId', 'Surname'], axis=1)\n",
    "df_filtered.head(5)\n",
    "# Удаляем столбцы и смотрим результат"
   ]
  },
  {
   "cell_type": "markdown",
   "metadata": {},
   "source": [
    "Преобразовываем категориные признаки в численные методом прямого кодирования для моделей решающего дерева."
   ]
  },
  {
   "cell_type": "code",
   "execution_count": 8,
   "metadata": {},
   "outputs": [
    {
     "data": {
      "text/html": [
       "<div>\n",
       "<style scoped>\n",
       "    .dataframe tbody tr th:only-of-type {\n",
       "        vertical-align: middle;\n",
       "    }\n",
       "\n",
       "    .dataframe tbody tr th {\n",
       "        vertical-align: top;\n",
       "    }\n",
       "\n",
       "    .dataframe thead th {\n",
       "        text-align: right;\n",
       "    }\n",
       "</style>\n",
       "<table border=\"1\" class=\"dataframe\">\n",
       "  <thead>\n",
       "    <tr style=\"text-align: right;\">\n",
       "      <th></th>\n",
       "      <th>CreditScore</th>\n",
       "      <th>Age</th>\n",
       "      <th>Tenure</th>\n",
       "      <th>Balance</th>\n",
       "      <th>NumOfProducts</th>\n",
       "      <th>HasCrCard</th>\n",
       "      <th>IsActiveMember</th>\n",
       "      <th>EstimatedSalary</th>\n",
       "      <th>Exited</th>\n",
       "      <th>Geography_Germany</th>\n",
       "      <th>Geography_Spain</th>\n",
       "      <th>Gender_Male</th>\n",
       "    </tr>\n",
       "  </thead>\n",
       "  <tbody>\n",
       "    <tr>\n",
       "      <th>0</th>\n",
       "      <td>619</td>\n",
       "      <td>42</td>\n",
       "      <td>2.0</td>\n",
       "      <td>0.00</td>\n",
       "      <td>1</td>\n",
       "      <td>1</td>\n",
       "      <td>1</td>\n",
       "      <td>101348.88</td>\n",
       "      <td>1</td>\n",
       "      <td>0</td>\n",
       "      <td>0</td>\n",
       "      <td>0</td>\n",
       "    </tr>\n",
       "    <tr>\n",
       "      <th>1</th>\n",
       "      <td>608</td>\n",
       "      <td>41</td>\n",
       "      <td>1.0</td>\n",
       "      <td>83807.86</td>\n",
       "      <td>1</td>\n",
       "      <td>0</td>\n",
       "      <td>1</td>\n",
       "      <td>112542.58</td>\n",
       "      <td>0</td>\n",
       "      <td>0</td>\n",
       "      <td>1</td>\n",
       "      <td>0</td>\n",
       "    </tr>\n",
       "    <tr>\n",
       "      <th>2</th>\n",
       "      <td>502</td>\n",
       "      <td>42</td>\n",
       "      <td>8.0</td>\n",
       "      <td>159660.80</td>\n",
       "      <td>3</td>\n",
       "      <td>1</td>\n",
       "      <td>0</td>\n",
       "      <td>113931.57</td>\n",
       "      <td>1</td>\n",
       "      <td>0</td>\n",
       "      <td>0</td>\n",
       "      <td>0</td>\n",
       "    </tr>\n",
       "    <tr>\n",
       "      <th>3</th>\n",
       "      <td>699</td>\n",
       "      <td>39</td>\n",
       "      <td>1.0</td>\n",
       "      <td>0.00</td>\n",
       "      <td>2</td>\n",
       "      <td>0</td>\n",
       "      <td>0</td>\n",
       "      <td>93826.63</td>\n",
       "      <td>0</td>\n",
       "      <td>0</td>\n",
       "      <td>0</td>\n",
       "      <td>0</td>\n",
       "    </tr>\n",
       "    <tr>\n",
       "      <th>4</th>\n",
       "      <td>850</td>\n",
       "      <td>43</td>\n",
       "      <td>2.0</td>\n",
       "      <td>125510.82</td>\n",
       "      <td>1</td>\n",
       "      <td>1</td>\n",
       "      <td>1</td>\n",
       "      <td>79084.10</td>\n",
       "      <td>0</td>\n",
       "      <td>0</td>\n",
       "      <td>1</td>\n",
       "      <td>0</td>\n",
       "    </tr>\n",
       "  </tbody>\n",
       "</table>\n",
       "</div>"
      ],
      "text/plain": [
       "   CreditScore  Age  Tenure    Balance  NumOfProducts  HasCrCard  \\\n",
       "0          619   42     2.0       0.00              1          1   \n",
       "1          608   41     1.0   83807.86              1          0   \n",
       "2          502   42     8.0  159660.80              3          1   \n",
       "3          699   39     1.0       0.00              2          0   \n",
       "4          850   43     2.0  125510.82              1          1   \n",
       "\n",
       "   IsActiveMember  EstimatedSalary  Exited  Geography_Germany  \\\n",
       "0               1        101348.88       1                  0   \n",
       "1               1        112542.58       0                  0   \n",
       "2               0        113931.57       1                  0   \n",
       "3               0         93826.63       0                  0   \n",
       "4               1         79084.10       0                  0   \n",
       "\n",
       "   Geography_Spain  Gender_Male  \n",
       "0                0            0  \n",
       "1                1            0  \n",
       "2                0            0  \n",
       "3                0            0  \n",
       "4                1            0  "
      ]
     },
     "execution_count": 8,
     "metadata": {},
     "output_type": "execute_result"
    }
   ],
   "source": [
    "df_ohe = pd.get_dummies(df_filtered, drop_first=True)\n",
    "df_ohe.head(5)\n",
    "# Используем функцию pd.get_dummies для преобразования колонок техникой OHE "
   ]
  },
  {
   "cell_type": "code",
   "execution_count": 9,
   "metadata": {},
   "outputs": [
    {
     "data": {
      "text/html": [
       "<div>\n",
       "<style scoped>\n",
       "    .dataframe tbody tr th:only-of-type {\n",
       "        vertical-align: middle;\n",
       "    }\n",
       "\n",
       "    .dataframe tbody tr th {\n",
       "        vertical-align: top;\n",
       "    }\n",
       "\n",
       "    .dataframe thead th {\n",
       "        text-align: right;\n",
       "    }\n",
       "</style>\n",
       "<table border=\"1\" class=\"dataframe\">\n",
       "  <thead>\n",
       "    <tr style=\"text-align: right;\">\n",
       "      <th></th>\n",
       "      <th>CreditScore</th>\n",
       "      <th>Geography</th>\n",
       "      <th>Gender</th>\n",
       "      <th>Age</th>\n",
       "      <th>Tenure</th>\n",
       "      <th>Balance</th>\n",
       "      <th>NumOfProducts</th>\n",
       "      <th>HasCrCard</th>\n",
       "      <th>IsActiveMember</th>\n",
       "      <th>EstimatedSalary</th>\n",
       "      <th>Exited</th>\n",
       "    </tr>\n",
       "  </thead>\n",
       "  <tbody>\n",
       "    <tr>\n",
       "      <th>0</th>\n",
       "      <td>228.0</td>\n",
       "      <td>0.0</td>\n",
       "      <td>0.0</td>\n",
       "      <td>24.0</td>\n",
       "      <td>2.0</td>\n",
       "      <td>0.0</td>\n",
       "      <td>0.0</td>\n",
       "      <td>1.0</td>\n",
       "      <td>1.0</td>\n",
       "      <td>5068.0</td>\n",
       "      <td>1.0</td>\n",
       "    </tr>\n",
       "    <tr>\n",
       "      <th>1</th>\n",
       "      <td>217.0</td>\n",
       "      <td>2.0</td>\n",
       "      <td>0.0</td>\n",
       "      <td>23.0</td>\n",
       "      <td>1.0</td>\n",
       "      <td>743.0</td>\n",
       "      <td>0.0</td>\n",
       "      <td>0.0</td>\n",
       "      <td>1.0</td>\n",
       "      <td>5639.0</td>\n",
       "      <td>0.0</td>\n",
       "    </tr>\n",
       "    <tr>\n",
       "      <th>2</th>\n",
       "      <td>111.0</td>\n",
       "      <td>0.0</td>\n",
       "      <td>0.0</td>\n",
       "      <td>24.0</td>\n",
       "      <td>8.0</td>\n",
       "      <td>5793.0</td>\n",
       "      <td>2.0</td>\n",
       "      <td>1.0</td>\n",
       "      <td>0.0</td>\n",
       "      <td>5707.0</td>\n",
       "      <td>1.0</td>\n",
       "    </tr>\n",
       "    <tr>\n",
       "      <th>3</th>\n",
       "      <td>308.0</td>\n",
       "      <td>0.0</td>\n",
       "      <td>0.0</td>\n",
       "      <td>21.0</td>\n",
       "      <td>1.0</td>\n",
       "      <td>0.0</td>\n",
       "      <td>1.0</td>\n",
       "      <td>0.0</td>\n",
       "      <td>0.0</td>\n",
       "      <td>4704.0</td>\n",
       "      <td>0.0</td>\n",
       "    </tr>\n",
       "    <tr>\n",
       "      <th>4</th>\n",
       "      <td>459.0</td>\n",
       "      <td>2.0</td>\n",
       "      <td>0.0</td>\n",
       "      <td>25.0</td>\n",
       "      <td>2.0</td>\n",
       "      <td>3696.0</td>\n",
       "      <td>0.0</td>\n",
       "      <td>1.0</td>\n",
       "      <td>1.0</td>\n",
       "      <td>3925.0</td>\n",
       "      <td>0.0</td>\n",
       "    </tr>\n",
       "  </tbody>\n",
       "</table>\n",
       "</div>"
      ],
      "text/plain": [
       "   CreditScore  Geography  Gender   Age  Tenure  Balance  NumOfProducts  \\\n",
       "0        228.0        0.0     0.0  24.0     2.0      0.0            0.0   \n",
       "1        217.0        2.0     0.0  23.0     1.0    743.0            0.0   \n",
       "2        111.0        0.0     0.0  24.0     8.0   5793.0            2.0   \n",
       "3        308.0        0.0     0.0  21.0     1.0      0.0            1.0   \n",
       "4        459.0        2.0     0.0  25.0     2.0   3696.0            0.0   \n",
       "\n",
       "   HasCrCard  IsActiveMember  EstimatedSalary  Exited  \n",
       "0        1.0             1.0           5068.0     1.0  \n",
       "1        0.0             1.0           5639.0     0.0  \n",
       "2        1.0             0.0           5707.0     1.0  \n",
       "3        0.0             0.0           4704.0     0.0  \n",
       "4        1.0             1.0           3925.0     0.0  "
      ]
     },
     "execution_count": 9,
     "metadata": {},
     "output_type": "execute_result"
    }
   ],
   "source": [
    "encoder = OrdinalEncoder()\n",
    "encoder.fit(df_filtered)\n",
    "df_ordinal = pd.DataFrame(encoder.transform(df_filtered), columns=df_filtered.columns)\n",
    "df_ordinal.head(5)\n",
    "# Этот код для пояснения вопроса выше."
   ]
  },
  {
   "cell_type": "markdown",
   "metadata": {},
   "source": [
    "### Разделение выборки на тренировочную, валидационную и тестовую."
   ]
  },
  {
   "cell_type": "markdown",
   "metadata": {},
   "source": [
    "Сначала извлекаем целевой признак"
   ]
  },
  {
   "cell_type": "code",
   "execution_count": 10,
   "metadata": {},
   "outputs": [],
   "source": [
    "features_ohe = df_ohe.drop(['Exited'], axis=1) # извлекаем признаки\n",
    "target_ohe = df_ohe['Exited'] # извлекаем целевой признак"
   ]
  },
  {
   "cell_type": "markdown",
   "metadata": {},
   "source": [
    "Теперь разобъём выборки на обучающую, валидационную и тестовую в пропорции 60% - 20% - 20%."
   ]
  },
  {
   "cell_type": "code",
   "execution_count": 11,
   "metadata": {},
   "outputs": [],
   "source": [
    "features_train_ohe, features_other_ohe, target_train_ohe, target_other_ohe = train_test_split(\n",
    "    features_ohe, target_ohe, test_size=0.40, random_state=12345)\n",
    "# Отделяем обучающую выборку\n",
    "features_test_ohe, features_valid_ohe, target_test_ohe, target_valid_ohe = train_test_split(\n",
    "    features_other_ohe, target_other_ohe, test_size=0.50, random_state=12345)\n",
    "# Отделяем тестовую и валидационную выборки"
   ]
  },
  {
   "cell_type": "code",
   "execution_count": 12,
   "metadata": {},
   "outputs": [
    {
     "name": "stdout",
     "output_type": "stream",
     "text": [
      "Размер тренировочной выборки (6000, 11)\n",
      "Размер тестовой выборки (2000, 11)\n",
      "Размер валидационной выборки (2000, 11)\n"
     ]
    }
   ],
   "source": [
    "print('Размер тренировочной выборки', features_train_ohe.shape)\n",
    "print('Размер тестовой выборки', features_test_ohe.shape)\n",
    "print('Размер валидационной выборки', features_valid_ohe.shape)"
   ]
  },
  {
   "cell_type": "markdown",
   "metadata": {},
   "source": [
    "### Масштабирование признаков"
   ]
  },
  {
   "cell_type": "markdown",
   "metadata": {},
   "source": [
    "Создадим объект структуры StandardScaler и обучим его на тренировочных данных."
   ]
  },
  {
   "cell_type": "code",
   "execution_count": 13,
   "metadata": {},
   "outputs": [
    {
     "data": {
      "text/plain": [
       "StandardScaler()"
      ]
     },
     "execution_count": 13,
     "metadata": {},
     "output_type": "execute_result"
    }
   ],
   "source": [
    "numeric = ['CreditScore', 'Age', 'Tenure', 'Balance', 'EstimatedSalary']\n",
    "scaler = StandardScaler()\n",
    "scaler.fit(features_train_ohe[numeric])"
   ]
  },
  {
   "cell_type": "code",
   "execution_count": 14,
   "metadata": {},
   "outputs": [
    {
     "data": {
      "text/html": [
       "<div>\n",
       "<style scoped>\n",
       "    .dataframe tbody tr th:only-of-type {\n",
       "        vertical-align: middle;\n",
       "    }\n",
       "\n",
       "    .dataframe tbody tr th {\n",
       "        vertical-align: top;\n",
       "    }\n",
       "\n",
       "    .dataframe thead th {\n",
       "        text-align: right;\n",
       "    }\n",
       "</style>\n",
       "<table border=\"1\" class=\"dataframe\">\n",
       "  <thead>\n",
       "    <tr style=\"text-align: right;\">\n",
       "      <th></th>\n",
       "      <th>CreditScore</th>\n",
       "      <th>Age</th>\n",
       "      <th>Tenure</th>\n",
       "      <th>Balance</th>\n",
       "      <th>NumOfProducts</th>\n",
       "      <th>HasCrCard</th>\n",
       "      <th>IsActiveMember</th>\n",
       "      <th>EstimatedSalary</th>\n",
       "      <th>Geography_Germany</th>\n",
       "      <th>Geography_Spain</th>\n",
       "      <th>Gender_Male</th>\n",
       "    </tr>\n",
       "  </thead>\n",
       "  <tbody>\n",
       "    <tr>\n",
       "      <th>7479</th>\n",
       "      <td>567</td>\n",
       "      <td>35</td>\n",
       "      <td>8.0</td>\n",
       "      <td>153137.74</td>\n",
       "      <td>1</td>\n",
       "      <td>1</td>\n",
       "      <td>0</td>\n",
       "      <td>88659.07</td>\n",
       "      <td>0</td>\n",
       "      <td>1</td>\n",
       "      <td>1</td>\n",
       "    </tr>\n",
       "    <tr>\n",
       "      <th>3411</th>\n",
       "      <td>711</td>\n",
       "      <td>37</td>\n",
       "      <td>8.0</td>\n",
       "      <td>113899.92</td>\n",
       "      <td>1</td>\n",
       "      <td>0</td>\n",
       "      <td>0</td>\n",
       "      <td>80215.20</td>\n",
       "      <td>0</td>\n",
       "      <td>0</td>\n",
       "      <td>0</td>\n",
       "    </tr>\n",
       "    <tr>\n",
       "      <th>6027</th>\n",
       "      <td>850</td>\n",
       "      <td>44</td>\n",
       "      <td>3.0</td>\n",
       "      <td>140393.65</td>\n",
       "      <td>2</td>\n",
       "      <td>0</td>\n",
       "      <td>1</td>\n",
       "      <td>186285.52</td>\n",
       "      <td>1</td>\n",
       "      <td>0</td>\n",
       "      <td>1</td>\n",
       "    </tr>\n",
       "    <tr>\n",
       "      <th>1247</th>\n",
       "      <td>512</td>\n",
       "      <td>24</td>\n",
       "      <td>6.0</td>\n",
       "      <td>0.00</td>\n",
       "      <td>2</td>\n",
       "      <td>1</td>\n",
       "      <td>0</td>\n",
       "      <td>37654.31</td>\n",
       "      <td>0</td>\n",
       "      <td>0</td>\n",
       "      <td>1</td>\n",
       "    </tr>\n",
       "    <tr>\n",
       "      <th>3716</th>\n",
       "      <td>665</td>\n",
       "      <td>27</td>\n",
       "      <td>2.0</td>\n",
       "      <td>147435.96</td>\n",
       "      <td>1</td>\n",
       "      <td>0</td>\n",
       "      <td>0</td>\n",
       "      <td>187508.06</td>\n",
       "      <td>1</td>\n",
       "      <td>0</td>\n",
       "      <td>0</td>\n",
       "    </tr>\n",
       "  </tbody>\n",
       "</table>\n",
       "</div>"
      ],
      "text/plain": [
       "      CreditScore  Age  Tenure    Balance  NumOfProducts  HasCrCard  \\\n",
       "7479          567   35     8.0  153137.74              1          1   \n",
       "3411          711   37     8.0  113899.92              1          0   \n",
       "6027          850   44     3.0  140393.65              2          0   \n",
       "1247          512   24     6.0       0.00              2          1   \n",
       "3716          665   27     2.0  147435.96              1          0   \n",
       "\n",
       "      IsActiveMember  EstimatedSalary  Geography_Germany  Geography_Spain  \\\n",
       "7479               0         88659.07                  0                1   \n",
       "3411               0         80215.20                  0                0   \n",
       "6027               1        186285.52                  1                0   \n",
       "1247               0         37654.31                  0                0   \n",
       "3716               0        187508.06                  1                0   \n",
       "\n",
       "      Gender_Male  \n",
       "7479            1  \n",
       "3411            0  \n",
       "6027            1  \n",
       "1247            1  \n",
       "3716            0  "
      ]
     },
     "execution_count": 14,
     "metadata": {},
     "output_type": "execute_result"
    }
   ],
   "source": [
    "features_train_ohe.head(5)"
   ]
  },
  {
   "cell_type": "markdown",
   "metadata": {},
   "source": [
    "Преобразуем обучающую, валидационную и тестовую выборки функцией transform()"
   ]
  },
  {
   "cell_type": "code",
   "execution_count": 15,
   "metadata": {},
   "outputs": [],
   "source": [
    "pd.options.mode.chained_assignment = None\n",
    "features_train_ohe[numeric] = scaler.transform(features_train_ohe[numeric])\n",
    "features_valid_ohe[numeric] = scaler.transform(features_valid_ohe[numeric])\n",
    "features_test_ohe[numeric] = scaler.transform(features_test_ohe[numeric])"
   ]
  },
  {
   "cell_type": "code",
   "execution_count": 16,
   "metadata": {},
   "outputs": [
    {
     "data": {
      "text/html": [
       "<div>\n",
       "<style scoped>\n",
       "    .dataframe tbody tr th:only-of-type {\n",
       "        vertical-align: middle;\n",
       "    }\n",
       "\n",
       "    .dataframe tbody tr th {\n",
       "        vertical-align: top;\n",
       "    }\n",
       "\n",
       "    .dataframe thead th {\n",
       "        text-align: right;\n",
       "    }\n",
       "</style>\n",
       "<table border=\"1\" class=\"dataframe\">\n",
       "  <thead>\n",
       "    <tr style=\"text-align: right;\">\n",
       "      <th></th>\n",
       "      <th>CreditScore</th>\n",
       "      <th>Age</th>\n",
       "      <th>Tenure</th>\n",
       "      <th>Balance</th>\n",
       "      <th>NumOfProducts</th>\n",
       "      <th>HasCrCard</th>\n",
       "      <th>IsActiveMember</th>\n",
       "      <th>EstimatedSalary</th>\n",
       "      <th>Geography_Germany</th>\n",
       "      <th>Geography_Spain</th>\n",
       "      <th>Gender_Male</th>\n",
       "    </tr>\n",
       "  </thead>\n",
       "  <tbody>\n",
       "    <tr>\n",
       "      <th>8532</th>\n",
       "      <td>-0.699824</td>\n",
       "      <td>-0.373192</td>\n",
       "      <td>-0.825373</td>\n",
       "      <td>-1.233163</td>\n",
       "      <td>2</td>\n",
       "      <td>1</td>\n",
       "      <td>0</td>\n",
       "      <td>-0.015173</td>\n",
       "      <td>0</td>\n",
       "      <td>0</td>\n",
       "      <td>0</td>\n",
       "    </tr>\n",
       "    <tr>\n",
       "      <th>5799</th>\n",
       "      <td>-0.284431</td>\n",
       "      <td>0.575842</td>\n",
       "      <td>-0.503694</td>\n",
       "      <td>-1.233163</td>\n",
       "      <td>1</td>\n",
       "      <td>1</td>\n",
       "      <td>1</td>\n",
       "      <td>1.471724</td>\n",
       "      <td>0</td>\n",
       "      <td>0</td>\n",
       "      <td>0</td>\n",
       "    </tr>\n",
       "    <tr>\n",
       "      <th>5511</th>\n",
       "      <td>0.151731</td>\n",
       "      <td>-0.657902</td>\n",
       "      <td>-1.468729</td>\n",
       "      <td>0.438711</td>\n",
       "      <td>1</td>\n",
       "      <td>1</td>\n",
       "      <td>0</td>\n",
       "      <td>-1.367107</td>\n",
       "      <td>1</td>\n",
       "      <td>0</td>\n",
       "      <td>1</td>\n",
       "    </tr>\n",
       "    <tr>\n",
       "      <th>7365</th>\n",
       "      <td>-0.876366</td>\n",
       "      <td>-0.278288</td>\n",
       "      <td>1.748053</td>\n",
       "      <td>1.239884</td>\n",
       "      <td>1</td>\n",
       "      <td>1</td>\n",
       "      <td>1</td>\n",
       "      <td>-0.786517</td>\n",
       "      <td>0</td>\n",
       "      <td>1</td>\n",
       "      <td>0</td>\n",
       "    </tr>\n",
       "    <tr>\n",
       "      <th>7367</th>\n",
       "      <td>-0.481743</td>\n",
       "      <td>0.291132</td>\n",
       "      <td>1.748053</td>\n",
       "      <td>-1.233163</td>\n",
       "      <td>2</td>\n",
       "      <td>1</td>\n",
       "      <td>0</td>\n",
       "      <td>1.358533</td>\n",
       "      <td>0</td>\n",
       "      <td>1</td>\n",
       "      <td>1</td>\n",
       "    </tr>\n",
       "  </tbody>\n",
       "</table>\n",
       "</div>"
      ],
      "text/plain": [
       "      CreditScore       Age    Tenure   Balance  NumOfProducts  HasCrCard  \\\n",
       "8532    -0.699824 -0.373192 -0.825373 -1.233163              2          1   \n",
       "5799    -0.284431  0.575842 -0.503694 -1.233163              1          1   \n",
       "5511     0.151731 -0.657902 -1.468729  0.438711              1          1   \n",
       "7365    -0.876366 -0.278288  1.748053  1.239884              1          1   \n",
       "7367    -0.481743  0.291132  1.748053 -1.233163              2          1   \n",
       "\n",
       "      IsActiveMember  EstimatedSalary  Geography_Germany  Geography_Spain  \\\n",
       "8532               0        -0.015173                  0                0   \n",
       "5799               1         1.471724                  0                0   \n",
       "5511               0        -1.367107                  1                0   \n",
       "7365               1        -0.786517                  0                1   \n",
       "7367               0         1.358533                  0                1   \n",
       "\n",
       "      Gender_Male  \n",
       "8532            0  \n",
       "5799            0  \n",
       "5511            1  \n",
       "7365            0  \n",
       "7367            1  "
      ]
     },
     "execution_count": 16,
     "metadata": {},
     "output_type": "execute_result"
    }
   ],
   "source": [
    "features_test_ohe.head(5)"
   ]
  },
  {
   "cell_type": "markdown",
   "metadata": {},
   "source": [
    "**Вывод:** Данные преобразованы."
   ]
  },
  {
   "cell_type": "markdown",
   "metadata": {},
   "source": [
    "## Исследование задачи"
   ]
  },
  {
   "cell_type": "markdown",
   "metadata": {},
   "source": [
    "Теперь обучим модели решающего дерева, случайного леса и логистической регрессии и посмотрим F1-меру на валидационной выборки, тем самым определим лучшие гиперпараметры для наших моделей."
   ]
  },
  {
   "cell_type": "markdown",
   "metadata": {},
   "source": [
    "### Исследование баланса классов"
   ]
  },
  {
   "cell_type": "markdown",
   "metadata": {},
   "source": [
    "Проведём исследования баланса классов целевого признака."
   ]
  },
  {
   "cell_type": "code",
   "execution_count": 17,
   "metadata": {},
   "outputs": [
    {
     "data": {
      "text/plain": [
       "0    0.7963\n",
       "1    0.2037\n",
       "Name: Exited, dtype: float64"
      ]
     },
     "execution_count": 17,
     "metadata": {},
     "output_type": "execute_result"
    }
   ],
   "source": [
    "target_ohe.value_counts(normalize = True)"
   ]
  },
  {
   "cell_type": "markdown",
   "metadata": {},
   "source": [
    "**Вывод** Выборка не сбалансированна единиц примерно в четыре раза больше чем нулей, это может сказатся на работе обученных моделей.\n",
    "\n",
    "Обучим сначала модели по тем данным которые есть, а потом попробуем сбалансировать классы. И увеличим выборки, посмотрим как после этого изменится f1 мера этих моделей."
   ]
  },
  {
   "cell_type": "markdown",
   "metadata": {},
   "source": [
    "### Модель решающего дерева"
   ]
  },
  {
   "cell_type": "markdown",
   "metadata": {},
   "source": [
    "Построим модель решающего дерева и определим при каких значениях гиперпараметров получится максимальное значение f1 меры."
   ]
  },
  {
   "cell_type": "code",
   "execution_count": 18,
   "metadata": {},
   "outputs": [
    {
     "name": "stdout",
     "output_type": "stream",
     "text": [
      "Максимальное значение f1: (0.5809128630705395, 5)\n"
     ]
    }
   ],
   "source": [
    "decision_f1 =[]\n",
    "for depth in range(1,13):\n",
    "    model_DecisionTree = DecisionTreeClassifier(random_state=12345, max_depth=depth, class_weight='balanced')\n",
    "    model_DecisionTree.fit(features_train_ohe, target_train_ohe)\n",
    "    predictions_valid = model_DecisionTree.predict(features_valid_ohe)\n",
    "    decision_f1.append((f1_score(target_valid_ohe, predictions_valid), depth))\n",
    "print('Максимальное значение f1:', max(decision_f1))\n",
    "# Обучаем модель решающего дерева"
   ]
  },
  {
   "cell_type": "markdown",
   "metadata": {},
   "source": [
    "**Вывод** \n",
    "\n",
    "Максимальное значение f1 меры получается при значении max_depth=5 "
   ]
  },
  {
   "cell_type": "markdown",
   "metadata": {},
   "source": [
    "### Модель случайного леса"
   ]
  },
  {
   "cell_type": "markdown",
   "metadata": {},
   "source": [
    "Теперь обучим модель случайного леса и определим при каких значениях гиперпараметров получится максимальное значение f1 меры."
   ]
  },
  {
   "cell_type": "code",
   "execution_count": 19,
   "metadata": {},
   "outputs": [
    {
     "name": "stdout",
     "output_type": "stream",
     "text": [
      "Максимальное значение f1: (0.6181410974244121, 9, 71)\n"
     ]
    }
   ],
   "source": [
    "randomforest_f1 = []\n",
    "for est in range(1, 121,10):\n",
    "    for depth in range (1, 11):\n",
    "        model_RandomForest = RandomForestClassifier(random_state=12345, n_estimators=est, max_depth=depth, class_weight='balanced')\n",
    "        model_RandomForest.fit(features_train_ohe, target_train_ohe)\n",
    "        predictions_valid = model_RandomForest.predict(features_valid_ohe)\n",
    "        randomforest_f1.append((f1_score(target_valid_ohe, predictions_valid), depth, est))\n",
    "print('Максимальное значение f1:', max(randomforest_f1))\n",
    "# Обучаем модель случайного леса"
   ]
  },
  {
   "cell_type": "markdown",
   "metadata": {},
   "source": [
    "**Вывод** \n",
    "\n",
    "Максимальное значение f1 меры получается при значении max_depth=10, n_estimators=111"
   ]
  },
  {
   "cell_type": "markdown",
   "metadata": {},
   "source": [
    "### Логистическая регрессия"
   ]
  },
  {
   "cell_type": "markdown",
   "metadata": {},
   "source": [
    "Теперь обучим логистическую регрессию"
   ]
  },
  {
   "cell_type": "code",
   "execution_count": 20,
   "metadata": {},
   "outputs": [
    {
     "data": {
      "text/plain": [
       "0.4797238999137188"
      ]
     },
     "execution_count": 20,
     "metadata": {},
     "output_type": "execute_result"
    }
   ],
   "source": [
    "model_LogisticRegression = LogisticRegression(solver='liblinear', random_state=12345, class_weight='balanced')\n",
    "model_LogisticRegression.fit(features_train_ohe, target_train_ohe)\n",
    "predictions_valid = model_LogisticRegression.predict(features_valid_ohe)\n",
    "f1_score(target_valid_ohe, predictions_valid)\n",
    "# Обучаем логистическую регрессию."
   ]
  },
  {
   "cell_type": "markdown",
   "metadata": {},
   "source": [
    "### Общий вывод"
   ]
  },
  {
   "cell_type": "markdown",
   "metadata": {},
   "source": [
    "Мы получили модель решающего дерева с гиперпараметром max_depth = 5 и f1 мерой равной 0.5809 и модель случайного леса с гиперпараметрами: max_depth = 10, n_estimators = 111 и f1 мерой равной 0.6274, модель логистической регрессии показала f1 меру 0.4797 в дальнейшем будем работать с этими моделями.   "
   ]
  },
  {
   "cell_type": "markdown",
   "metadata": {},
   "source": [
    "## Борьба с дисбалансом"
   ]
  },
  {
   "cell_type": "markdown",
   "metadata": {},
   "source": [
    "### Увеличение выборки"
   ]
  },
  {
   "cell_type": "markdown",
   "metadata": {},
   "source": [
    "Для того чтобы сбалансировать выборку, увеличим её за счёт увеличения доли ответов \"1\" в в целевых показателях."
   ]
  },
  {
   "cell_type": "markdown",
   "metadata": {},
   "source": [
    "Напишем функцию которая увеличит выборку."
   ]
  },
  {
   "cell_type": "code",
   "execution_count": 21,
   "metadata": {},
   "outputs": [],
   "source": [
    "def upsample(features, target, repeat):\n",
    "    features_zeros = features[target == 0]\n",
    "    features_ones = features[target == 1]\n",
    "    target_zeros = target[target == 0]\n",
    "    target_ones = target[target == 1]\n",
    "\n",
    "    features_upsampled = pd.concat([features_zeros] + [features_ones] * repeat)\n",
    "    target_upsampled = pd.concat([target_zeros] + [target_ones] * repeat)\n",
    "    \n",
    "    features_upsampled, target_upsampled = shuffle(\n",
    "        features_upsampled, target_upsampled, random_state=12345)\n",
    "    \n",
    "    return features_upsampled, target_upsampled\n",
    "\n",
    "features_upsampled, target_upsampled = upsample(features_train_ohe, target_train_ohe, 4)"
   ]
  },
  {
   "cell_type": "code",
   "execution_count": 22,
   "metadata": {},
   "outputs": [
    {
     "data": {
      "text/plain": [
       "(9588, 11)"
      ]
     },
     "execution_count": 22,
     "metadata": {},
     "output_type": "execute_result"
    }
   ],
   "source": [
    "features_upsampled.shape"
   ]
  },
  {
   "cell_type": "code",
   "execution_count": 23,
   "metadata": {},
   "outputs": [
    {
     "data": {
      "text/plain": [
       "0    0.501043\n",
       "1    0.498957\n",
       "Name: Exited, dtype: float64"
      ]
     },
     "execution_count": 23,
     "metadata": {},
     "output_type": "execute_result"
    }
   ],
   "source": [
    "target_upsampled.value_counts(normalize=True)"
   ]
  },
  {
   "cell_type": "markdown",
   "metadata": {},
   "source": [
    "Увеличили выборку и сбалансировали по целевому признаку, теперь посмотрим как это повлияет на f1 меру моделей с выбранными нами параметрами."
   ]
  },
  {
   "cell_type": "markdown",
   "metadata": {},
   "source": [
    "### Уменьшение выборки"
   ]
  },
  {
   "cell_type": "markdown",
   "metadata": {},
   "source": [
    "Попробуем разные варианты борьбы с дисбалансом, подготовим уменьшенную выборку, сократим долю ответов \"0\"."
   ]
  },
  {
   "cell_type": "markdown",
   "metadata": {},
   "source": [
    "Напишем функцию для уменьшения выборки"
   ]
  },
  {
   "cell_type": "code",
   "execution_count": 24,
   "metadata": {},
   "outputs": [],
   "source": [
    "def downsample(features, target, fraction):\n",
    "    features_zeros = features[target == 0]\n",
    "    features_ones = features[target == 1]\n",
    "    target_zeros = target[target == 0]\n",
    "    target_ones = target[target == 1]\n",
    "\n",
    "    features_downsampled = pd.concat(\n",
    "        [features_zeros.sample(frac=fraction, random_state=12345)] + [features_ones])\n",
    "    target_downsampled = pd.concat(\n",
    "        [target_zeros.sample(frac=fraction, random_state=12345)] + [target_ones])\n",
    "    \n",
    "    features_downsampled, target_downsampled = shuffle(\n",
    "        features_downsampled, target_downsampled, random_state=12345)\n",
    "    \n",
    "    return features_downsampled, target_downsampled\n",
    "\n",
    "features_downsampled, target_downsampled = downsample(features_train_ohe, target_train_ohe, 0.25)"
   ]
  },
  {
   "cell_type": "code",
   "execution_count": 25,
   "metadata": {},
   "outputs": [
    {
     "data": {
      "text/plain": [
       "(2397, 11)"
      ]
     },
     "execution_count": 25,
     "metadata": {},
     "output_type": "execute_result"
    }
   ],
   "source": [
    "features_downsampled.shape"
   ]
  },
  {
   "cell_type": "code",
   "execution_count": 26,
   "metadata": {},
   "outputs": [
    {
     "data": {
      "text/plain": [
       "0    0.501043\n",
       "1    0.498957\n",
       "Name: Exited, dtype: float64"
      ]
     },
     "execution_count": 26,
     "metadata": {},
     "output_type": "execute_result"
    }
   ],
   "source": [
    "target_downsampled.value_counts(normalize=True)"
   ]
  },
  {
   "cell_type": "markdown",
   "metadata": {},
   "source": [
    "### Модель решающего дерева"
   ]
  },
  {
   "cell_type": "markdown",
   "metadata": {},
   "source": [
    "Обучим модель решающего дерева по новым тренировочным выборкам."
   ]
  },
  {
   "cell_type": "code",
   "execution_count": 27,
   "metadata": {},
   "outputs": [
    {
     "name": "stdout",
     "output_type": "stream",
     "text": [
      "Максимальное значение f1: (0.5809128630705395, 5)\n"
     ]
    }
   ],
   "source": [
    "decision_f1 =[]\n",
    "for depth in range(1,13):\n",
    "    model_DecisionTree = DecisionTreeClassifier(random_state=12345, max_depth=depth, class_weight='balanced')\n",
    "    model_DecisionTree.fit(features_upsampled, target_upsampled)\n",
    "    predictions_valid = model_DecisionTree.predict(features_valid_ohe)\n",
    "    decision_f1.append((f1_score(target_valid_ohe, predictions_valid), depth))\n",
    "print('Максимальное значение f1:', max(decision_f1))\n",
    "# Обучаем модели решающего дерева на увеличеной выборке"
   ]
  },
  {
   "cell_type": "code",
   "execution_count": 28,
   "metadata": {},
   "outputs": [
    {
     "name": "stdout",
     "output_type": "stream",
     "text": [
      "Максимальное значение f1: (0.608066184074457, 5)\n"
     ]
    }
   ],
   "source": [
    "decision_f1 =[]\n",
    "for depth in range(1,13):\n",
    "    model_DecisionTree = DecisionTreeClassifier(random_state=12345, max_depth=depth, class_weight='balanced')\n",
    "    model_DecisionTree.fit(features_downsampled, target_downsampled)\n",
    "    predictions_valid = model_DecisionTree.predict(features_valid_ohe)\n",
    "    decision_f1.append((f1_score(target_valid_ohe, predictions_valid), depth))\n",
    "print('Максимальное значение f1:', max(decision_f1))\n",
    "# Обучаем модели решающего дерева на уменьшенной выборке"
   ]
  },
  {
   "cell_type": "markdown",
   "metadata": {},
   "source": [
    "**Вывод** Лучший результат показала модель на уменьшенной выборке, с гиперпараметром **max_depth=5**, она показала значение **F1 меры 0.6074**.  "
   ]
  },
  {
   "cell_type": "markdown",
   "metadata": {},
   "source": [
    "### Модель случайного леса"
   ]
  },
  {
   "cell_type": "markdown",
   "metadata": {},
   "source": [
    "Обучим модель случайного леса по новой тренировочной выборке и с выбранными ранее гиперпараметрами."
   ]
  },
  {
   "cell_type": "code",
   "execution_count": 29,
   "metadata": {},
   "outputs": [
    {
     "name": "stdout",
     "output_type": "stream",
     "text": [
      "Значение f1: 0.6102783725910065\n"
     ]
    }
   ],
   "source": [
    "model_RandomForest = RandomForestClassifier(random_state=12345, n_estimators=111, max_depth=10, class_weight='balanced')\n",
    "model_RandomForest.fit(features_upsampled, target_upsampled)\n",
    "predictions_valid = model_RandomForest.predict(features_valid_ohe)\n",
    "print('Значение f1:', f1_score(target_valid_ohe, predictions_valid))\n",
    "# Обучаем модель случайного леса и смотрим f1 меру."
   ]
  },
  {
   "cell_type": "code",
   "execution_count": 30,
   "metadata": {},
   "outputs": [
    {
     "name": "stdout",
     "output_type": "stream",
     "text": [
      "Максимальное значение f1: (0.6160000000000001, 8, 71)\n"
     ]
    }
   ],
   "source": [
    "randomforest_f1 = []\n",
    "for est in range(1, 121,10):\n",
    "    for depth in range (1, 11):\n",
    "        model_RandomForest = RandomForestClassifier(random_state=12345, n_estimators=est, max_depth=depth, class_weight='balanced')\n",
    "        model_RandomForest.fit(features_upsampled, target_upsampled)\n",
    "        predictions_valid = model_RandomForest.predict(features_valid_ohe)\n",
    "        randomforest_f1.append((f1_score(target_valid_ohe, predictions_valid), depth, est))\n",
    "print('Максимальное значение f1:', max(randomforest_f1))\n",
    "# Обучаем модель случайного леса на увеличенной выборке"
   ]
  },
  {
   "cell_type": "code",
   "execution_count": 31,
   "metadata": {},
   "outputs": [
    {
     "name": "stdout",
     "output_type": "stream",
     "text": [
      "Максимальное значение f1: (0.5959409594095941, 10, 81)\n"
     ]
    }
   ],
   "source": [
    "randomforest_f1 = []\n",
    "for est in range(1, 121,10):\n",
    "    for depth in range (1, 11):\n",
    "        model_RandomForest = RandomForestClassifier(random_state=12345, n_estimators=est, max_depth=depth, class_weight='balanced')\n",
    "        model_RandomForest.fit(features_downsampled, target_downsampled)\n",
    "        predictions_valid = model_RandomForest.predict(features_valid_ohe)\n",
    "        randomforest_f1.append((f1_score(target_valid_ohe, predictions_valid), depth, est))\n",
    "print('Максимальное значение f1:', max(randomforest_f1))\n",
    "# Обучаем модель случайного леса на уменьшенной выборке"
   ]
  },
  {
   "cell_type": "markdown",
   "metadata": {},
   "source": [
    "**Вывод** Лучший результат показала модель на увеличенной выборке, с гиперпараметром **max_depth=9 и n_estimators=101**, она показала значение **F1 меры 0.6142**."
   ]
  },
  {
   "cell_type": "markdown",
   "metadata": {},
   "source": [
    "### Логистическая регрессия"
   ]
  },
  {
   "cell_type": "markdown",
   "metadata": {},
   "source": [
    "Обучим модель логистической регрессии о новой тренировочной выборке."
   ]
  },
  {
   "cell_type": "code",
   "execution_count": 32,
   "metadata": {},
   "outputs": [
    {
     "name": "stdout",
     "output_type": "stream",
     "text": [
      "Значение f1: 0.4797238999137188\n"
     ]
    }
   ],
   "source": [
    "model_LogisticRegression = LogisticRegression(solver='liblinear', random_state=12345, class_weight='balanced')\n",
    "model_LogisticRegression.fit(features_upsampled, target_upsampled)\n",
    "predictions_valid = model_LogisticRegression.predict(features_valid_ohe)\n",
    "print('Значение f1:', f1_score(target_valid_ohe, predictions_valid))\n",
    "# Обучаем модель логистической регрессии и смотрим f1 меру."
   ]
  },
  {
   "cell_type": "code",
   "execution_count": 33,
   "metadata": {},
   "outputs": [
    {
     "name": "stdout",
     "output_type": "stream",
     "text": [
      "Значение f1: 0.48805460750853247\n"
     ]
    }
   ],
   "source": [
    "model_LogisticRegression = LogisticRegression(solver='liblinear', random_state=12345, class_weight='balanced')\n",
    "model_LogisticRegression.fit(features_downsampled, target_downsampled)\n",
    "predictions_valid = model_LogisticRegression.predict(features_valid_ohe)\n",
    "print('Значение f1:', f1_score(target_valid_ohe, predictions_valid))\n",
    "# Обучаем модель логистической регрессии и смотрим f1 меру."
   ]
  },
  {
   "cell_type": "markdown",
   "metadata": {},
   "source": [
    "**Вывод** Модель, обученная на уменьшеной выборке показала результат лучще **F1 мера = 0.4880**"
   ]
  },
  {
   "cell_type": "markdown",
   "metadata": {},
   "source": [
    "### Общий вывод"
   ]
  },
  {
   "cell_type": "markdown",
   "metadata": {},
   "source": [
    "После изменения выборок модели решающего дерева и логистической регрессии показала лучший результат на уменьшенной выборке и модель случайного леса показала результат хуже, будем использовать первоначальные (не увеличенные выборки) для модели случайного леса и уменьшенную выборку для решающего дерева и логистической регрессии."
   ]
  },
  {
   "cell_type": "markdown",
   "metadata": {},
   "source": [
    "## Тестирование модели"
   ]
  },
  {
   "cell_type": "markdown",
   "metadata": {},
   "source": [
    "Проведём тестирование моделей на тестовой выборке"
   ]
  },
  {
   "cell_type": "code",
   "execution_count": 34,
   "metadata": {},
   "outputs": [
    {
     "name": "stdout",
     "output_type": "stream",
     "text": [
      "Значение f1: 0.576271186440678\n"
     ]
    }
   ],
   "source": [
    "model_DecisionTree = DecisionTreeClassifier(random_state=12345, max_depth=6, class_weight='balanced')\n",
    "model_DecisionTree.fit(features_downsampled, target_downsampled)\n",
    "predictions_test = model_DecisionTree.predict(features_test_ohe)\n",
    "print('Значение f1:', f1_score(target_test_ohe, predictions_test))\n",
    "# Обучаем модель решающего дерева и смотрим f1 меру."
   ]
  },
  {
   "cell_type": "code",
   "execution_count": 35,
   "metadata": {},
   "outputs": [
    {
     "name": "stdout",
     "output_type": "stream",
     "text": [
      "Значение f1: 0.6086956521739132\n"
     ]
    }
   ],
   "source": [
    "model_RandomForest = RandomForestClassifier(random_state=12345, n_estimators=41, max_depth=10, class_weight='balanced')\n",
    "model_RandomForest.fit(features_train_ohe, target_train_ohe)\n",
    "predictions_test = model_RandomForest.predict(features_test_ohe)\n",
    "print('Значение f1:', f1_score(target_test_ohe, predictions_test))\n",
    "# Тестирование модели случайного леса"
   ]
  },
  {
   "cell_type": "code",
   "execution_count": 36,
   "metadata": {},
   "outputs": [
    {
     "name": "stdout",
     "output_type": "stream",
     "text": [
      "Значение f1: 0.4892703862660944\n"
     ]
    }
   ],
   "source": [
    "model_LogisticRegression = LogisticRegression(solver='liblinear', random_state=12345, class_weight='balanced')\n",
    "model_LogisticRegression.fit(features_downsampled, target_downsampled)\n",
    "predictions_test = model_LogisticRegression.predict(features_test_ohe)\n",
    "print('Значение f1:', f1_score(target_test_ohe, predictions_test))\n",
    "# Обучаем модель логистической регрессии и смотрим f1 меру."
   ]
  },
  {
   "cell_type": "markdown",
   "metadata": {},
   "source": [
    "### Метрика AUC-ROC"
   ]
  },
  {
   "cell_type": "markdown",
   "metadata": {},
   "source": [
    "Для каждой модели построим PR-кривую и посчитаем метрику AUC-ROC"
   ]
  },
  {
   "cell_type": "code",
   "execution_count": 37,
   "metadata": {},
   "outputs": [
    {
     "data": {
      "image/png": "[encoded data removed]",
      "text/plain": [
       "<Figure size 432x432 with 1 Axes>"
      ]
     },
     "metadata": {
      "needs_background": "light"
     },
     "output_type": "display_data"
    }
   ],
   "source": [
    "probabilities_valid = model_DecisionTree.predict_proba(features_test_ohe)\n",
    "precision, recall, thresholds = precision_recall_curve(target_test_ohe, probabilities_valid[:, 1])\n",
    "\n",
    "plt.figure(figsize=(6, 6))\n",
    "plt.step(recall, precision, where='post')\n",
    "plt.xlabel('Recall')\n",
    "plt.ylabel('Precision')\n",
    "plt.ylim([0.0, 1.05])\n",
    "plt.xlim([0.0, 1.0])\n",
    "plt.title('Кривая Precision-Recall')\n",
    "plt.show()\n",
    "# Строим PR-кривую для модели решающего дерева"
   ]
  },
  {
   "cell_type": "code",
   "execution_count": 38,
   "metadata": {},
   "outputs": [
    {
     "data": {
      "text/plain": [
       "0.816554660988755"
      ]
     },
     "execution_count": 38,
     "metadata": {},
     "output_type": "execute_result"
    }
   ],
   "source": [
    "probabilities_one_valid = probabilities_valid[:, 1]\n",
    "roc_auc_score(target_test_ohe, probabilities_one_valid)\n",
    "# Считаем метрику AUC-ROC для решающего дерева"
   ]
  },
  {
   "cell_type": "code",
   "execution_count": 39,
   "metadata": {},
   "outputs": [
    {
     "data": {
      "image/png": "[encoded data removed]",
      "text/plain": [
       "<Figure size 432x288 with 1 Axes>"
      ]
     },
     "metadata": {
      "needs_background": "light"
     },
     "output_type": "display_data"
    }
   ],
   "source": [
    "fpr, tpr, thresholds = roc_curve(target_test_ohe, probabilities_one_valid) # < напишите код здесь >\n",
    "plt.figure()\n",
    "plt.plot(fpr, tpr)\n",
    "# ROC-кривая случайной модели (выглядит как прямая)\n",
    "plt.plot([0, 1], [0, 1], linestyle='--')\n",
    "plt.ylim([0.0, 1.0])\n",
    "plt.xlim([0.0, 1.0])\n",
    "plt.xlabel('False Positive Rate')\n",
    "plt.ylabel('True Positive Rate')\n",
    "plt.title('ROC-кривая')\n",
    "plt.show()\n",
    "# Строим ROC кривую для модели решающего дерева"
   ]
  },
  {
   "cell_type": "code",
   "execution_count": 40,
   "metadata": {},
   "outputs": [
    {
     "data": {
      "image/png": "[encoded data removed]",
      "text/plain": [
       "<Figure size 432x432 with 1 Axes>"
      ]
     },
     "metadata": {
      "needs_background": "light"
     },
     "output_type": "display_data"
    }
   ],
   "source": [
    "probabilities_valid = model_RandomForest.predict_proba(features_test_ohe)\n",
    "precision, recall, thresholds = precision_recall_curve(target_test_ohe, probabilities_valid[:, 1])\n",
    "\n",
    "plt.figure(figsize=(6, 6))\n",
    "plt.step(recall, precision, where='post')\n",
    "plt.xlabel('Recall')\n",
    "plt.ylabel('Precision')\n",
    "plt.ylim([0.0, 1.05])\n",
    "plt.xlim([0.0, 1.0])\n",
    "plt.title('Кривая Precision-Recall')\n",
    "plt.show() \n",
    "# Строим PR-кривую для модели случайного леса"
   ]
  },
  {
   "cell_type": "code",
   "execution_count": 41,
   "metadata": {},
   "outputs": [
    {
     "data": {
      "text/plain": [
       "0.847630943811661"
      ]
     },
     "execution_count": 41,
     "metadata": {},
     "output_type": "execute_result"
    }
   ],
   "source": [
    "probabilities_one_valid = probabilities_valid[:, 1]\n",
    "roc_auc_score(target_test_ohe, probabilities_one_valid)\n",
    "# Считаем метрику AUC-ROC"
   ]
  },
  {
   "cell_type": "code",
   "execution_count": 42,
   "metadata": {},
   "outputs": [
    {
     "data": {
      "image/png": "[encoded data removed]",
      "text/plain": [
       "<Figure size 432x288 with 1 Axes>"
      ]
     },
     "metadata": {
      "needs_background": "light"
     },
     "output_type": "display_data"
    }
   ],
   "source": [
    "fpr, tpr, thresholds = roc_curve(target_test_ohe, probabilities_one_valid) # < напишите код здесь >\n",
    "plt.figure()\n",
    "plt.plot(fpr, tpr)\n",
    "# ROC-кривая случайной модели (выглядит как прямая)\n",
    "plt.plot([0, 1], [0, 1], linestyle='--')\n",
    "plt.ylim([0.0, 1.0])\n",
    "plt.xlim([0.0, 1.0])\n",
    "plt.xlabel('False Positive Rate')\n",
    "plt.ylabel('True Positive Rate')\n",
    "plt.title('ROC-кривая')\n",
    "plt.show()\n",
    "# Строим ROC кривую для модели случайного леса"
   ]
  },
  {
   "cell_type": "code",
   "execution_count": 43,
   "metadata": {},
   "outputs": [
    {
     "data": {
      "image/png": "[encoded data removed]",
      "text/plain": [
       "<Figure size 432x432 with 1 Axes>"
      ]
     },
     "metadata": {
      "needs_background": "light"
     },
     "output_type": "display_data"
    }
   ],
   "source": [
    "probabilities_valid = model_LogisticRegression.predict_proba(features_test_ohe)\n",
    "precision, recall, thresholds = precision_recall_curve(target_test_ohe, probabilities_valid[:, 1])\n",
    "\n",
    "plt.figure(figsize=(6, 6))\n",
    "plt.step(recall, precision, where='post')\n",
    "plt.xlabel('Recall')\n",
    "plt.ylabel('Precision')\n",
    "plt.ylim([0.0, 1.05])\n",
    "plt.xlim([0.0, 1.0])\n",
    "plt.title('Кривая Precision-Recall')\n",
    "plt.show() \n",
    "# Строим PR-кривую для модели логистической регрессии"
   ]
  },
  {
   "cell_type": "code",
   "execution_count": 44,
   "metadata": {},
   "outputs": [
    {
     "data": {
      "text/plain": [
       "0.762633151664358"
      ]
     },
     "execution_count": 44,
     "metadata": {},
     "output_type": "execute_result"
    }
   ],
   "source": [
    "probabilities_one_valid = probabilities_valid[:, 1]\n",
    "roc_auc_score(target_test_ohe, probabilities_one_valid)\n",
    "# Считаем метрику AUC-ROC"
   ]
  },
  {
   "cell_type": "code",
   "execution_count": 45,
   "metadata": {},
   "outputs": [
    {
     "data": {
      "image/png": "[encoded data removed]",
      "text/plain": [
       "<Figure size 432x288 with 1 Axes>"
      ]
     },
     "metadata": {
      "needs_background": "light"
     },
     "output_type": "display_data"
    }
   ],
   "source": [
    "fpr, tpr, thresholds = roc_curve(target_test_ohe, probabilities_one_valid) # < напишите код здесь >\n",
    "plt.figure()\n",
    "plt.plot(fpr, tpr)\n",
    "# ROC-кривая случайной модели (выглядит как прямая)\n",
    "plt.plot([0, 1], [0, 1], linestyle='--')\n",
    "plt.ylim([0.0, 1.0])\n",
    "plt.xlim([0.0, 1.0])\n",
    "plt.xlabel('False Positive Rate')\n",
    "plt.ylabel('True Positive Rate')\n",
    "plt.title('ROC-кривая')\n",
    "plt.show()\n",
    "# Строим ROC кривую для модели логистической регрессии"
   ]
  },
  {
   "cell_type": "markdown",
   "metadata": {},
   "source": [
    "### Общие выводы"
   ]
  },
  {
   "cell_type": "markdown",
   "metadata": {},
   "source": [
    "В результате работы были построены модели решающего дерева, случайного леса и логистической регрессии.\n",
    "Модель случайного леса с гиперпараметрами max_depth=10, n_estimators=111 показала на тестовой выборке F1 меру 0.6172, что выше целевого значения 0,59.\n",
    "Данная модель показала значение AUC-ROC 0.8510. "
   ]
  },
  {
   "cell_type": "markdown",
   "metadata": {},
   "source": [
    "## Чек-лист готовности проекта"
   ]
  },
  {
   "cell_type": "markdown",
   "metadata": {},
   "source": [
    "Поставьте 'x' в выполненных пунктах. Далее нажмите Shift+Enter."
   ]
  },
  {
   "cell_type": "markdown",
   "metadata": {},
   "source": [
    "- [x]  Jupyter Notebook открыт\n",
    "- [x]  Весь код выполняется без ошибок\n",
    "- [x]  Ячейки с кодом расположены в порядке исполнения\n",
    "- [x]  Выполнен шаг 1: данные подготовлены\n",
    "- [x]  Выполнен шаг 2: задача исследована\n",
    "    - [x]  Исследован баланс классов\n",
    "    - [x]  Изучены модели без учёта дисбаланса\n",
    "    - [x]  Написаны выводы по результатам исследования\n",
    "- [x]  Выполнен шаг 3: учтён дисбаланс\n",
    "    - [x]  Применено несколько способов борьбы с дисбалансом\n",
    "    - [x]  Написаны выводы по результатам исследования\n",
    "- [x]  Выполнен шаг 4: проведено тестирование\n",
    "- [x]  Удалось достичь *F1*-меры не менее 0.59\n",
    "- [x]  Исследована метрика *AUC-ROC*"
   ]
  },
  {
   "cell_type": "code",
   "execution_count": null,
   "metadata": {},
   "outputs": [],
   "source": []
  }
 ],
 "metadata": {
  "ExecuteTimeLog": [
   {
    "duration": 727,
    "start_time": "2022-02-10T13:52:50.924Z"
   },
   {
    "duration": 32,
    "start_time": "2022-02-10T13:53:25.288Z"
   },
   {
    "duration": 53,
    "start_time": "2022-02-10T13:55:15.644Z"
   },
   {
    "duration": 13,
    "start_time": "2022-02-10T13:56:42.470Z"
   },
   {
    "duration": 339,
    "start_time": "2022-02-10T19:24:41.279Z"
   },
   {
    "duration": 593,
    "start_time": "2022-02-10T19:24:51.881Z"
   },
   {
    "duration": 39,
    "start_time": "2022-02-10T19:24:52.475Z"
   },
   {
    "duration": 8,
    "start_time": "2022-02-10T19:24:52.516Z"
   },
   {
    "duration": 6,
    "start_time": "2022-02-10T19:24:52.525Z"
   },
   {
    "duration": 6,
    "start_time": "2022-02-10T19:28:43.078Z"
   },
   {
    "duration": 6,
    "start_time": "2022-02-10T19:33:16.549Z"
   },
   {
    "duration": 7,
    "start_time": "2022-02-10T19:33:36.094Z"
   },
   {
    "duration": 542,
    "start_time": "2022-02-10T19:33:42.729Z"
   },
   {
    "duration": 7,
    "start_time": "2022-02-10T19:34:44.890Z"
   },
   {
    "duration": 12,
    "start_time": "2022-02-10T19:35:48.152Z"
   },
   {
    "duration": 13,
    "start_time": "2022-02-10T19:36:15.957Z"
   },
   {
    "duration": 4,
    "start_time": "2022-02-10T19:50:04.296Z"
   },
   {
    "duration": 12,
    "start_time": "2022-02-10T19:50:19.001Z"
   },
   {
    "duration": 11,
    "start_time": "2022-02-10T19:51:19.990Z"
   },
   {
    "duration": 33,
    "start_time": "2022-02-10T19:52:14.616Z"
   },
   {
    "duration": 7,
    "start_time": "2022-02-10T19:52:57.049Z"
   },
   {
    "duration": 8,
    "start_time": "2022-02-10T19:53:22.097Z"
   },
   {
    "duration": 11,
    "start_time": "2022-02-10T19:53:49.316Z"
   },
   {
    "duration": 12,
    "start_time": "2022-02-10T19:54:54.024Z"
   },
   {
    "duration": 17,
    "start_time": "2022-02-10T19:55:12.439Z"
   },
   {
    "duration": 7,
    "start_time": "2022-02-10T19:55:39.501Z"
   },
   {
    "duration": 512,
    "start_time": "2022-02-10T20:34:26.946Z"
   },
   {
    "duration": 34,
    "start_time": "2022-02-10T20:34:27.460Z"
   },
   {
    "duration": 7,
    "start_time": "2022-02-10T20:34:27.496Z"
   },
   {
    "duration": 6,
    "start_time": "2022-02-10T20:34:27.505Z"
   },
   {
    "duration": 7,
    "start_time": "2022-02-10T20:34:27.512Z"
   },
   {
    "duration": 9,
    "start_time": "2022-02-10T20:34:27.520Z"
   },
   {
    "duration": 10,
    "start_time": "2022-02-10T20:34:27.531Z"
   },
   {
    "duration": 2,
    "start_time": "2022-02-10T20:34:27.571Z"
   },
   {
    "duration": 4,
    "start_time": "2022-02-10T20:34:27.575Z"
   },
   {
    "duration": 2,
    "start_time": "2022-02-10T20:34:53.613Z"
   },
   {
    "duration": 522,
    "start_time": "2022-02-10T20:36:46.298Z"
   },
   {
    "duration": 29,
    "start_time": "2022-02-10T20:36:55.088Z"
   },
   {
    "duration": 41,
    "start_time": "2022-02-10T20:37:15.029Z"
   },
   {
    "duration": 3,
    "start_time": "2022-02-10T20:39:10.835Z"
   },
   {
    "duration": 34,
    "start_time": "2022-02-10T20:39:10.839Z"
   },
   {
    "duration": 8,
    "start_time": "2022-02-10T20:39:10.875Z"
   },
   {
    "duration": 6,
    "start_time": "2022-02-10T20:39:10.885Z"
   },
   {
    "duration": 6,
    "start_time": "2022-02-10T20:39:10.893Z"
   },
   {
    "duration": 9,
    "start_time": "2022-02-10T20:39:10.901Z"
   },
   {
    "duration": 10,
    "start_time": "2022-02-10T20:39:10.912Z"
   },
   {
    "duration": 4,
    "start_time": "2022-02-10T20:39:10.923Z"
   },
   {
    "duration": 74,
    "start_time": "2022-02-10T20:39:10.929Z"
   },
   {
    "duration": 2,
    "start_time": "2022-02-10T20:39:11.005Z"
   },
   {
    "duration": 4,
    "start_time": "2022-02-10T20:39:11.009Z"
   },
   {
    "duration": 2,
    "start_time": "2022-02-10T20:39:32.771Z"
   },
   {
    "duration": 36,
    "start_time": "2022-02-10T20:39:32.775Z"
   },
   {
    "duration": 7,
    "start_time": "2022-02-10T20:39:32.812Z"
   },
   {
    "duration": 9,
    "start_time": "2022-02-10T20:39:32.820Z"
   },
   {
    "duration": 7,
    "start_time": "2022-02-10T20:39:32.830Z"
   },
   {
    "duration": 10,
    "start_time": "2022-02-10T20:39:32.839Z"
   },
   {
    "duration": 31,
    "start_time": "2022-02-10T20:39:32.851Z"
   },
   {
    "duration": 2,
    "start_time": "2022-02-10T20:39:32.884Z"
   },
   {
    "duration": 45,
    "start_time": "2022-02-10T20:39:32.888Z"
   },
   {
    "duration": 3,
    "start_time": "2022-02-10T20:39:32.934Z"
   },
   {
    "duration": 3,
    "start_time": "2022-02-10T20:39:32.939Z"
   },
   {
    "duration": 1190,
    "start_time": "2022-02-10T20:40:37.472Z"
   },
   {
    "duration": 40,
    "start_time": "2022-02-10T20:40:38.663Z"
   },
   {
    "duration": 8,
    "start_time": "2022-02-10T20:40:38.704Z"
   },
   {
    "duration": 7,
    "start_time": "2022-02-10T20:40:38.713Z"
   },
   {
    "duration": 6,
    "start_time": "2022-02-10T20:40:38.722Z"
   },
   {
    "duration": 11,
    "start_time": "2022-02-10T20:40:38.729Z"
   },
   {
    "duration": 31,
    "start_time": "2022-02-10T20:40:38.741Z"
   },
   {
    "duration": 2,
    "start_time": "2022-02-10T20:40:38.774Z"
   },
   {
    "duration": 1229,
    "start_time": "2022-02-10T20:40:38.778Z"
   },
   {
    "duration": 291,
    "start_time": "2022-02-10T20:40:39.718Z"
   },
   {
    "duration": 288,
    "start_time": "2022-02-10T20:40:39.722Z"
   },
   {
    "duration": 960,
    "start_time": "2022-02-10T20:41:40.502Z"
   },
   {
    "duration": 37,
    "start_time": "2022-02-10T20:41:41.464Z"
   },
   {
    "duration": 7,
    "start_time": "2022-02-10T20:41:41.505Z"
   },
   {
    "duration": 5,
    "start_time": "2022-02-10T20:41:41.514Z"
   },
   {
    "duration": 6,
    "start_time": "2022-02-10T20:41:41.521Z"
   },
   {
    "duration": 9,
    "start_time": "2022-02-10T20:41:41.529Z"
   },
   {
    "duration": 36,
    "start_time": "2022-02-10T20:41:41.540Z"
   },
   {
    "duration": 9,
    "start_time": "2022-02-10T20:41:41.577Z"
   },
   {
    "duration": 35,
    "start_time": "2022-02-10T20:41:41.587Z"
   },
   {
    "duration": 1,
    "start_time": "2022-02-10T20:41:41.624Z"
   },
   {
    "duration": 4,
    "start_time": "2022-02-10T20:41:41.627Z"
   },
   {
    "duration": 24,
    "start_time": "2022-02-10T20:44:23.330Z"
   },
   {
    "duration": 410,
    "start_time": "2022-02-10T20:44:52.856Z"
   },
   {
    "duration": 328,
    "start_time": "2022-02-10T20:45:40.428Z"
   },
   {
    "duration": 318,
    "start_time": "2022-02-10T20:45:52.981Z"
   },
   {
    "duration": 11,
    "start_time": "2022-02-10T20:46:15.455Z"
   },
   {
    "duration": 338,
    "start_time": "2022-02-10T20:46:55.783Z"
   },
   {
    "duration": 357,
    "start_time": "2022-02-10T20:47:27.855Z"
   },
   {
    "duration": 24,
    "start_time": "2022-02-10T20:47:36.307Z"
   },
   {
    "duration": 325,
    "start_time": "2022-02-10T20:49:31.536Z"
   },
   {
    "duration": 22,
    "start_time": "2022-02-10T20:49:38.705Z"
   },
   {
    "duration": 33,
    "start_time": "2022-02-10T20:50:02.404Z"
   },
   {
    "duration": 20,
    "start_time": "2022-02-10T20:54:32.998Z"
   },
   {
    "duration": 34,
    "start_time": "2022-02-10T20:55:05.078Z"
   },
   {
    "duration": 6,
    "start_time": "2022-02-10T20:59:19.119Z"
   },
   {
    "duration": 356,
    "start_time": "2022-02-14T18:20:32.927Z"
   },
   {
    "duration": 1040,
    "start_time": "2022-02-14T18:20:43.270Z"
   },
   {
    "duration": 42,
    "start_time": "2022-02-14T18:20:44.312Z"
   },
   {
    "duration": 7,
    "start_time": "2022-02-14T18:20:44.356Z"
   },
   {
    "duration": 6,
    "start_time": "2022-02-14T18:20:44.364Z"
   },
   {
    "duration": 7,
    "start_time": "2022-02-14T18:20:44.371Z"
   },
   {
    "duration": 14,
    "start_time": "2022-02-14T18:20:44.379Z"
   },
   {
    "duration": 39,
    "start_time": "2022-02-14T18:20:44.394Z"
   },
   {
    "duration": 31,
    "start_time": "2022-02-14T18:20:44.435Z"
   },
   {
    "duration": 968,
    "start_time": "2022-02-15T13:39:36.158Z"
   },
   {
    "duration": 39,
    "start_time": "2022-02-15T13:39:37.128Z"
   },
   {
    "duration": 9,
    "start_time": "2022-02-15T13:39:37.169Z"
   },
   {
    "duration": 7,
    "start_time": "2022-02-15T13:39:37.180Z"
   },
   {
    "duration": 8,
    "start_time": "2022-02-15T13:39:37.189Z"
   },
   {
    "duration": 41,
    "start_time": "2022-02-15T13:39:37.199Z"
   },
   {
    "duration": 11,
    "start_time": "2022-02-15T13:39:37.242Z"
   },
   {
    "duration": 21,
    "start_time": "2022-02-15T13:39:37.255Z"
   },
   {
    "duration": 947,
    "start_time": "2022-02-15T14:14:03.489Z"
   },
   {
    "duration": 37,
    "start_time": "2022-02-15T14:14:04.438Z"
   },
   {
    "duration": 8,
    "start_time": "2022-02-15T14:14:04.478Z"
   },
   {
    "duration": 6,
    "start_time": "2022-02-15T14:14:04.489Z"
   },
   {
    "duration": 8,
    "start_time": "2022-02-15T14:14:04.497Z"
   },
   {
    "duration": 34,
    "start_time": "2022-02-15T14:14:04.506Z"
   },
   {
    "duration": 14,
    "start_time": "2022-02-15T14:14:04.541Z"
   },
   {
    "duration": 22,
    "start_time": "2022-02-15T14:14:04.557Z"
   },
   {
    "duration": 4394,
    "start_time": "2022-02-15T14:14:04.581Z"
   },
   {
    "duration": 5,
    "start_time": "2022-02-15T14:14:25.540Z"
   },
   {
    "duration": 7,
    "start_time": "2022-02-15T14:16:29.109Z"
   },
   {
    "duration": 9,
    "start_time": "2022-02-15T14:17:14.026Z"
   },
   {
    "duration": 5,
    "start_time": "2022-02-15T14:17:52.357Z"
   },
   {
    "duration": 8,
    "start_time": "2022-02-15T14:47:28.070Z"
   },
   {
    "duration": 7,
    "start_time": "2022-02-15T14:51:10.105Z"
   },
   {
    "duration": 174,
    "start_time": "2022-02-15T14:51:29.200Z"
   },
   {
    "duration": 7,
    "start_time": "2022-02-15T14:52:46.893Z"
   },
   {
    "duration": 162,
    "start_time": "2022-02-15T14:52:48.520Z"
   },
   {
    "duration": 4,
    "start_time": "2022-02-15T14:52:54.974Z"
   },
   {
    "duration": 10,
    "start_time": "2022-02-15T14:54:03.185Z"
   },
   {
    "duration": 211,
    "start_time": "2022-02-15T14:57:21.479Z"
   },
   {
    "duration": 993,
    "start_time": "2022-02-15T14:59:03.938Z"
   },
   {
    "duration": 43,
    "start_time": "2022-02-15T14:59:04.933Z"
   },
   {
    "duration": 8,
    "start_time": "2022-02-15T14:59:04.978Z"
   },
   {
    "duration": 5,
    "start_time": "2022-02-15T14:59:04.988Z"
   },
   {
    "duration": 7,
    "start_time": "2022-02-15T14:59:04.995Z"
   },
   {
    "duration": 31,
    "start_time": "2022-02-15T14:59:05.004Z"
   },
   {
    "duration": 13,
    "start_time": "2022-02-15T14:59:05.036Z"
   },
   {
    "duration": 20,
    "start_time": "2022-02-15T14:59:05.051Z"
   },
   {
    "duration": 5,
    "start_time": "2022-02-15T14:59:05.073Z"
   },
   {
    "duration": 9,
    "start_time": "2022-02-15T14:59:05.080Z"
   },
   {
    "duration": 4,
    "start_time": "2022-02-15T14:59:05.090Z"
   },
   {
    "duration": 6,
    "start_time": "2022-02-15T14:59:05.131Z"
   },
   {
    "duration": 10,
    "start_time": "2022-02-15T14:59:05.139Z"
   },
   {
    "duration": 271,
    "start_time": "2022-02-15T14:59:05.150Z"
   },
   {
    "duration": 950,
    "start_time": "2022-02-15T15:00:20.882Z"
   },
   {
    "duration": 37,
    "start_time": "2022-02-15T15:00:21.833Z"
   },
   {
    "duration": 7,
    "start_time": "2022-02-15T15:00:21.872Z"
   },
   {
    "duration": 7,
    "start_time": "2022-02-15T15:00:21.881Z"
   },
   {
    "duration": 9,
    "start_time": "2022-02-15T15:00:21.889Z"
   },
   {
    "duration": 32,
    "start_time": "2022-02-15T15:00:21.899Z"
   },
   {
    "duration": 11,
    "start_time": "2022-02-15T15:00:21.933Z"
   },
   {
    "duration": 20,
    "start_time": "2022-02-15T15:00:21.946Z"
   },
   {
    "duration": 5,
    "start_time": "2022-02-15T15:00:21.968Z"
   },
   {
    "duration": 10,
    "start_time": "2022-02-15T15:00:21.975Z"
   },
   {
    "duration": 4,
    "start_time": "2022-02-15T15:00:21.987Z"
   },
   {
    "duration": 38,
    "start_time": "2022-02-15T15:00:21.992Z"
   },
   {
    "duration": 10,
    "start_time": "2022-02-15T15:00:22.032Z"
   },
   {
    "duration": 24,
    "start_time": "2022-02-15T15:00:22.043Z"
   },
   {
    "duration": 10,
    "start_time": "2022-02-15T15:00:48.359Z"
   },
   {
    "duration": 18,
    "start_time": "2022-02-15T15:01:18.001Z"
   },
   {
    "duration": 10,
    "start_time": "2022-02-15T15:01:21.435Z"
   },
   {
    "duration": 6,
    "start_time": "2022-02-15T15:02:17.349Z"
   },
   {
    "duration": 255,
    "start_time": "2022-02-15T15:40:29.332Z"
   },
   {
    "duration": 1023,
    "start_time": "2022-02-15T15:40:39.325Z"
   },
   {
    "duration": 37,
    "start_time": "2022-02-15T15:40:40.350Z"
   },
   {
    "duration": 7,
    "start_time": "2022-02-15T15:40:40.389Z"
   },
   {
    "duration": 9,
    "start_time": "2022-02-15T15:40:40.397Z"
   },
   {
    "duration": 23,
    "start_time": "2022-02-15T15:40:40.408Z"
   },
   {
    "duration": 11,
    "start_time": "2022-02-15T15:40:40.432Z"
   },
   {
    "duration": 11,
    "start_time": "2022-02-15T15:40:40.445Z"
   },
   {
    "duration": 25,
    "start_time": "2022-02-15T15:40:40.458Z"
   },
   {
    "duration": 6,
    "start_time": "2022-02-15T15:40:40.484Z"
   },
   {
    "duration": 13,
    "start_time": "2022-02-15T15:40:40.491Z"
   },
   {
    "duration": 26,
    "start_time": "2022-02-15T15:40:40.506Z"
   },
   {
    "duration": 12,
    "start_time": "2022-02-15T15:40:40.534Z"
   },
   {
    "duration": 12,
    "start_time": "2022-02-15T15:40:40.548Z"
   },
   {
    "duration": 20,
    "start_time": "2022-02-15T15:40:40.562Z"
   },
   {
    "duration": 9,
    "start_time": "2022-02-15T15:40:40.584Z"
   },
   {
    "duration": 265,
    "start_time": "2022-02-15T15:40:40.595Z"
   },
   {
    "duration": 198,
    "start_time": "2022-02-15T15:52:06.920Z"
   },
   {
    "duration": 188,
    "start_time": "2022-02-15T15:53:00.577Z"
   },
   {
    "duration": 352,
    "start_time": "2022-02-15T15:53:24.006Z"
   },
   {
    "duration": 173,
    "start_time": "2022-02-15T15:53:53.009Z"
   },
   {
    "duration": 197,
    "start_time": "2022-02-15T15:54:01.481Z"
   },
   {
    "duration": 228,
    "start_time": "2022-02-15T15:54:06.019Z"
   },
   {
    "duration": 227,
    "start_time": "2022-02-15T15:54:16.777Z"
   },
   {
    "duration": 207,
    "start_time": "2022-02-15T15:54:59.029Z"
   },
   {
    "duration": 54,
    "start_time": "2022-02-15T16:05:34.500Z"
   },
   {
    "duration": 9,
    "start_time": "2022-02-15T18:03:33.662Z"
   },
   {
    "duration": 209,
    "start_time": "2022-02-15T18:10:52.023Z"
   },
   {
    "duration": 181,
    "start_time": "2022-02-15T18:11:30.630Z"
   },
   {
    "duration": 186,
    "start_time": "2022-02-15T18:11:40.697Z"
   },
   {
    "duration": 201,
    "start_time": "2022-02-15T18:13:11.219Z"
   },
   {
    "duration": 83,
    "start_time": "2022-02-15T18:14:02.139Z"
   },
   {
    "duration": 62,
    "start_time": "2022-02-15T18:15:30.077Z"
   },
   {
    "duration": 1033,
    "start_time": "2022-02-15T18:15:49.622Z"
   },
   {
    "duration": 37,
    "start_time": "2022-02-15T18:15:50.657Z"
   },
   {
    "duration": 8,
    "start_time": "2022-02-15T18:15:50.697Z"
   },
   {
    "duration": 7,
    "start_time": "2022-02-15T18:15:50.707Z"
   },
   {
    "duration": 7,
    "start_time": "2022-02-15T18:15:50.730Z"
   },
   {
    "duration": 10,
    "start_time": "2022-02-15T18:15:50.739Z"
   },
   {
    "duration": 12,
    "start_time": "2022-02-15T18:15:50.751Z"
   },
   {
    "duration": 21,
    "start_time": "2022-02-15T18:15:50.764Z"
   },
   {
    "duration": 5,
    "start_time": "2022-02-15T18:15:50.786Z"
   },
   {
    "duration": 40,
    "start_time": "2022-02-15T18:15:50.793Z"
   },
   {
    "duration": 4,
    "start_time": "2022-02-15T18:15:50.834Z"
   },
   {
    "duration": 10,
    "start_time": "2022-02-15T18:15:50.839Z"
   },
   {
    "duration": 11,
    "start_time": "2022-02-15T18:15:50.850Z"
   },
   {
    "duration": 19,
    "start_time": "2022-02-15T18:15:50.862Z"
   },
   {
    "duration": 10,
    "start_time": "2022-02-15T18:15:50.882Z"
   },
   {
    "duration": 236,
    "start_time": "2022-02-15T18:15:50.894Z"
   },
   {
    "duration": 61,
    "start_time": "2022-02-15T18:15:51.131Z"
   },
   {
    "duration": 71,
    "start_time": "2022-02-15T18:16:15.717Z"
   },
   {
    "duration": 61,
    "start_time": "2022-02-15T18:16:23.970Z"
   },
   {
    "duration": 52,
    "start_time": "2022-02-15T18:16:37.789Z"
   },
   {
    "duration": 60,
    "start_time": "2022-02-15T18:16:57.887Z"
   },
   {
    "duration": 55,
    "start_time": "2022-02-15T18:17:08.175Z"
   },
   {
    "duration": 68,
    "start_time": "2022-02-15T18:17:37.858Z"
   },
   {
    "duration": 61,
    "start_time": "2022-02-15T18:17:46.234Z"
   },
   {
    "duration": 58,
    "start_time": "2022-02-15T18:18:43.375Z"
   },
   {
    "duration": 58,
    "start_time": "2022-02-15T18:18:57.753Z"
   },
   {
    "duration": 59,
    "start_time": "2022-02-15T18:19:27.556Z"
   },
   {
    "duration": 60,
    "start_time": "2022-02-15T18:20:16.005Z"
   },
   {
    "duration": 57,
    "start_time": "2022-02-15T18:20:32.396Z"
   },
   {
    "duration": 55,
    "start_time": "2022-02-15T18:20:46.865Z"
   },
   {
    "duration": 55,
    "start_time": "2022-02-15T18:21:18.515Z"
   },
   {
    "duration": 55,
    "start_time": "2022-02-15T18:21:34.917Z"
   },
   {
    "duration": 25055,
    "start_time": "2022-02-15T18:21:56.711Z"
   },
   {
    "duration": 25014,
    "start_time": "2022-02-15T18:23:21.200Z"
   },
   {
    "duration": 264,
    "start_time": "2022-02-15T18:24:08.226Z"
   },
   {
    "duration": 25492,
    "start_time": "2022-02-15T18:24:45.475Z"
   },
   {
    "duration": 24319,
    "start_time": "2022-02-15T18:27:50.895Z"
   },
   {
    "duration": 24969,
    "start_time": "2022-02-15T18:28:38.177Z"
   },
   {
    "duration": 977,
    "start_time": "2022-02-15T18:29:37.873Z"
   },
   {
    "duration": 37,
    "start_time": "2022-02-15T18:29:38.852Z"
   },
   {
    "duration": 8,
    "start_time": "2022-02-15T18:29:38.891Z"
   },
   {
    "duration": 11,
    "start_time": "2022-02-15T18:29:38.900Z"
   },
   {
    "duration": 11,
    "start_time": "2022-02-15T18:29:38.912Z"
   },
   {
    "duration": 11,
    "start_time": "2022-02-15T18:29:38.930Z"
   },
   {
    "duration": 11,
    "start_time": "2022-02-15T18:29:38.942Z"
   },
   {
    "duration": 21,
    "start_time": "2022-02-15T18:29:38.956Z"
   },
   {
    "duration": 5,
    "start_time": "2022-02-15T18:29:38.979Z"
   },
   {
    "duration": 8,
    "start_time": "2022-02-15T18:29:38.985Z"
   },
   {
    "duration": 3,
    "start_time": "2022-02-15T18:29:38.995Z"
   },
   {
    "duration": 8,
    "start_time": "2022-02-15T18:29:39.031Z"
   },
   {
    "duration": 18,
    "start_time": "2022-02-15T18:29:39.040Z"
   },
   {
    "duration": 23,
    "start_time": "2022-02-15T18:29:39.059Z"
   },
   {
    "duration": 10,
    "start_time": "2022-02-15T18:29:39.083Z"
   },
   {
    "duration": 227,
    "start_time": "2022-02-15T18:29:39.095Z"
   },
   {
    "duration": 25294,
    "start_time": "2022-02-15T18:29:39.323Z"
   },
   {
    "duration": 3,
    "start_time": "2022-02-15T18:51:31.051Z"
   },
   {
    "duration": 90,
    "start_time": "2022-02-15T18:53:46.440Z"
   },
   {
    "duration": 1006,
    "start_time": "2022-02-15T18:54:04.655Z"
   },
   {
    "duration": 44,
    "start_time": "2022-02-15T18:54:05.663Z"
   },
   {
    "duration": 7,
    "start_time": "2022-02-15T18:54:05.709Z"
   },
   {
    "duration": 15,
    "start_time": "2022-02-15T18:54:05.718Z"
   },
   {
    "duration": 7,
    "start_time": "2022-02-15T18:54:05.734Z"
   },
   {
    "duration": 11,
    "start_time": "2022-02-15T18:54:05.742Z"
   },
   {
    "duration": 11,
    "start_time": "2022-02-15T18:54:05.755Z"
   },
   {
    "duration": 23,
    "start_time": "2022-02-15T18:54:05.768Z"
   },
   {
    "duration": 38,
    "start_time": "2022-02-15T18:54:05.793Z"
   },
   {
    "duration": 8,
    "start_time": "2022-02-15T18:54:05.833Z"
   },
   {
    "duration": 4,
    "start_time": "2022-02-15T18:54:05.843Z"
   },
   {
    "duration": 11,
    "start_time": "2022-02-15T18:54:05.848Z"
   },
   {
    "duration": 10,
    "start_time": "2022-02-15T18:54:05.860Z"
   },
   {
    "duration": 21,
    "start_time": "2022-02-15T18:54:05.871Z"
   },
   {
    "duration": 38,
    "start_time": "2022-02-15T18:54:05.893Z"
   },
   {
    "duration": 209,
    "start_time": "2022-02-15T18:54:05.933Z"
   },
   {
    "duration": 24762,
    "start_time": "2022-02-15T18:54:06.144Z"
   },
   {
    "duration": 36,
    "start_time": "2022-02-15T18:54:30.908Z"
   },
   {
    "duration": 1429,
    "start_time": "2022-02-19T14:41:58.804Z"
   },
   {
    "duration": 72,
    "start_time": "2022-02-19T14:42:00.236Z"
   },
   {
    "duration": 12,
    "start_time": "2022-02-19T14:42:00.310Z"
   },
   {
    "duration": 9,
    "start_time": "2022-02-19T14:42:00.324Z"
   },
   {
    "duration": 12,
    "start_time": "2022-02-19T14:42:00.336Z"
   },
   {
    "duration": 61,
    "start_time": "2022-02-19T14:42:00.351Z"
   },
   {
    "duration": 19,
    "start_time": "2022-02-19T14:42:00.415Z"
   },
   {
    "duration": 36,
    "start_time": "2022-02-19T14:42:00.437Z"
   },
   {
    "duration": 35,
    "start_time": "2022-02-19T14:42:00.476Z"
   },
   {
    "duration": 10,
    "start_time": "2022-02-19T14:42:00.514Z"
   },
   {
    "duration": 8,
    "start_time": "2022-02-19T14:42:00.527Z"
   },
   {
    "duration": 22,
    "start_time": "2022-02-19T14:42:00.538Z"
   },
   {
    "duration": 15,
    "start_time": "2022-02-19T14:42:00.563Z"
   },
   {
    "duration": 54,
    "start_time": "2022-02-19T14:42:00.581Z"
   },
   {
    "duration": 17,
    "start_time": "2022-02-19T14:42:00.638Z"
   },
   {
    "duration": 332,
    "start_time": "2022-02-19T14:42:00.657Z"
   },
   {
    "duration": 41729,
    "start_time": "2022-02-19T14:42:00.992Z"
   },
   {
    "duration": 91,
    "start_time": "2022-02-19T14:42:42.724Z"
   },
   {
    "duration": 16,
    "start_time": "2022-02-19T16:15:46.035Z"
   },
   {
    "duration": 47,
    "start_time": "2022-02-19T16:18:31.664Z"
   },
   {
    "duration": 304,
    "start_time": "2022-02-19T16:19:15.201Z"
   },
   {
    "duration": 1464,
    "start_time": "2022-02-19T16:19:56.501Z"
   },
   {
    "duration": 62,
    "start_time": "2022-02-19T16:19:57.968Z"
   },
   {
    "duration": 15,
    "start_time": "2022-02-19T16:19:58.034Z"
   },
   {
    "duration": 9,
    "start_time": "2022-02-19T16:19:58.052Z"
   },
   {
    "duration": 47,
    "start_time": "2022-02-19T16:19:58.064Z"
   },
   {
    "duration": 25,
    "start_time": "2022-02-19T16:19:58.113Z"
   },
   {
    "duration": 26,
    "start_time": "2022-02-19T16:19:58.141Z"
   },
   {
    "duration": 77,
    "start_time": "2022-02-19T16:19:58.172Z"
   },
   {
    "duration": 9,
    "start_time": "2022-02-19T16:19:58.253Z"
   },
   {
    "duration": 14,
    "start_time": "2022-02-19T16:19:58.265Z"
   },
   {
    "duration": 38,
    "start_time": "2022-02-19T16:19:58.281Z"
   },
   {
    "duration": 15,
    "start_time": "2022-02-19T16:19:58.324Z"
   },
   {
    "duration": 18,
    "start_time": "2022-02-19T16:19:58.342Z"
   },
   {
    "duration": 73,
    "start_time": "2022-02-19T16:19:58.363Z"
   },
   {
    "duration": 22,
    "start_time": "2022-02-19T16:19:58.438Z"
   },
   {
    "duration": 18,
    "start_time": "2022-02-19T16:19:58.463Z"
   },
   {
    "duration": 357,
    "start_time": "2022-02-19T16:19:58.484Z"
   },
   {
    "duration": 40887,
    "start_time": "2022-02-19T16:19:58.844Z"
   },
   {
    "duration": 79,
    "start_time": "2022-02-19T16:20:39.734Z"
   },
   {
    "duration": 329,
    "start_time": "2022-02-19T16:22:51.790Z"
   },
   {
    "duration": 40218,
    "start_time": "2022-02-19T16:23:11.148Z"
   },
   {
    "duration": 41,
    "start_time": "2022-02-19T16:24:08.490Z"
   },
   {
    "duration": 1460,
    "start_time": "2022-02-19T16:28:31.593Z"
   },
   {
    "duration": 64,
    "start_time": "2022-02-19T16:28:33.056Z"
   },
   {
    "duration": 12,
    "start_time": "2022-02-19T16:28:33.124Z"
   },
   {
    "duration": 10,
    "start_time": "2022-02-19T16:28:33.139Z"
   },
   {
    "duration": 12,
    "start_time": "2022-02-19T16:28:33.151Z"
   },
   {
    "duration": 64,
    "start_time": "2022-02-19T16:28:33.166Z"
   },
   {
    "duration": 27,
    "start_time": "2022-02-19T16:28:33.233Z"
   },
   {
    "duration": 77,
    "start_time": "2022-02-19T16:28:33.263Z"
   },
   {
    "duration": 9,
    "start_time": "2022-02-19T16:28:33.345Z"
   },
   {
    "duration": 15,
    "start_time": "2022-02-19T16:28:33.358Z"
   },
   {
    "duration": 35,
    "start_time": "2022-02-19T16:28:33.376Z"
   },
   {
    "duration": 15,
    "start_time": "2022-02-19T16:28:33.414Z"
   },
   {
    "duration": 19,
    "start_time": "2022-02-19T16:28:33.432Z"
   },
   {
    "duration": 74,
    "start_time": "2022-02-19T16:28:33.468Z"
   },
   {
    "duration": 23,
    "start_time": "2022-02-19T16:28:33.545Z"
   },
   {
    "duration": 10,
    "start_time": "2022-02-19T16:28:33.571Z"
   },
   {
    "duration": 354,
    "start_time": "2022-02-19T16:28:33.612Z"
   },
   {
    "duration": 41482,
    "start_time": "2022-02-19T16:28:33.969Z"
   },
   {
    "duration": 154,
    "start_time": "2022-02-19T16:29:15.471Z"
   },
   {
    "duration": 761,
    "start_time": "2022-02-19T17:52:55.070Z"
   },
   {
    "duration": 1439,
    "start_time": "2022-02-19T17:53:28.177Z"
   },
   {
    "duration": 62,
    "start_time": "2022-02-19T17:53:29.619Z"
   },
   {
    "duration": 11,
    "start_time": "2022-02-19T17:53:29.684Z"
   },
   {
    "duration": 18,
    "start_time": "2022-02-19T17:53:29.698Z"
   },
   {
    "duration": 12,
    "start_time": "2022-02-19T17:53:29.719Z"
   },
   {
    "duration": 19,
    "start_time": "2022-02-19T17:53:29.734Z"
   },
   {
    "duration": 56,
    "start_time": "2022-02-19T17:53:29.756Z"
   },
   {
    "duration": 34,
    "start_time": "2022-02-19T17:53:29.816Z"
   },
   {
    "duration": 6,
    "start_time": "2022-02-19T17:53:29.853Z"
   },
   {
    "duration": 11,
    "start_time": "2022-02-19T17:53:29.862Z"
   },
   {
    "duration": 6,
    "start_time": "2022-02-19T17:53:29.910Z"
   },
   {
    "duration": 14,
    "start_time": "2022-02-19T17:53:29.918Z"
   },
   {
    "duration": 16,
    "start_time": "2022-02-19T17:53:29.934Z"
   },
   {
    "duration": 67,
    "start_time": "2022-02-19T17:53:29.953Z"
   },
   {
    "duration": 20,
    "start_time": "2022-02-19T17:53:30.022Z"
   },
   {
    "duration": 16,
    "start_time": "2022-02-19T17:53:30.044Z"
   },
   {
    "duration": 327,
    "start_time": "2022-02-19T17:53:30.063Z"
   },
   {
    "duration": 40321,
    "start_time": "2022-02-19T17:53:30.393Z"
   },
   {
    "duration": 98,
    "start_time": "2022-02-19T17:54:10.717Z"
   },
   {
    "duration": 106,
    "start_time": "2022-02-19T17:54:10.818Z"
   },
   {
    "duration": 522,
    "start_time": "2022-02-19T18:02:39.288Z"
   },
   {
    "duration": 384,
    "start_time": "2022-02-19T18:02:59.783Z"
   },
   {
    "duration": 7,
    "start_time": "2022-02-19T18:03:25.025Z"
   },
   {
    "duration": 12,
    "start_time": "2022-02-19T18:04:04.680Z"
   },
   {
    "duration": 53,
    "start_time": "2022-02-19T18:10:54.898Z"
   },
   {
    "duration": 39,
    "start_time": "2022-02-19T18:11:41.790Z"
   },
   {
    "duration": 52,
    "start_time": "2022-02-19T18:11:50.709Z"
   },
   {
    "duration": 463,
    "start_time": "2022-02-19T18:13:50.390Z"
   },
   {
    "duration": 1253,
    "start_time": "2022-02-19T18:14:02.101Z"
   },
   {
    "duration": 867,
    "start_time": "2022-02-19T18:14:11.915Z"
   },
   {
    "duration": 441,
    "start_time": "2022-02-19T18:14:16.959Z"
   },
   {
    "duration": 560,
    "start_time": "2022-02-19T18:14:20.918Z"
   },
   {
    "duration": 679,
    "start_time": "2022-02-19T18:14:23.953Z"
   },
   {
    "duration": 788,
    "start_time": "2022-02-19T18:14:28.364Z"
   },
   {
    "duration": 914,
    "start_time": "2022-02-19T18:14:32.814Z"
   },
   {
    "duration": 972,
    "start_time": "2022-02-19T18:14:39.320Z"
   },
   {
    "duration": 1104,
    "start_time": "2022-02-19T18:14:43.242Z"
   },
   {
    "duration": 1175,
    "start_time": "2022-02-19T18:14:48.128Z"
   },
   {
    "duration": 1235,
    "start_time": "2022-02-19T18:14:52.863Z"
   },
   {
    "duration": 1419,
    "start_time": "2022-02-19T18:14:58.176Z"
   },
   {
    "duration": 1371,
    "start_time": "2022-02-19T18:15:03.604Z"
   },
   {
    "duration": 1235,
    "start_time": "2022-02-19T18:15:13.451Z"
   },
   {
    "duration": 1932,
    "start_time": "2022-02-19T18:16:11.145Z"
   },
   {
    "duration": 65,
    "start_time": "2022-02-19T18:16:13.080Z"
   },
   {
    "duration": 13,
    "start_time": "2022-02-19T18:16:13.149Z"
   },
   {
    "duration": 10,
    "start_time": "2022-02-19T18:16:13.165Z"
   },
   {
    "duration": 39,
    "start_time": "2022-02-19T18:16:13.177Z"
   },
   {
    "duration": 18,
    "start_time": "2022-02-19T18:16:13.218Z"
   },
   {
    "duration": 20,
    "start_time": "2022-02-19T18:16:13.239Z"
   },
   {
    "duration": 78,
    "start_time": "2022-02-19T18:16:13.262Z"
   },
   {
    "duration": 10,
    "start_time": "2022-02-19T18:16:13.345Z"
   },
   {
    "duration": 1567,
    "start_time": "2022-02-19T18:16:13.358Z"
   },
   {
    "duration": 57,
    "start_time": "2022-02-19T18:16:14.928Z"
   },
   {
    "duration": 20,
    "start_time": "2022-02-19T18:16:14.988Z"
   },
   {
    "duration": 25,
    "start_time": "2022-02-19T18:16:15.010Z"
   },
   {
    "duration": 38,
    "start_time": "2022-02-19T18:16:15.038Z"
   },
   {
    "duration": 18,
    "start_time": "2022-02-19T18:16:15.079Z"
   },
   {
    "duration": 36,
    "start_time": "2022-02-19T18:16:15.099Z"
   },
   {
    "duration": 329,
    "start_time": "2022-02-19T18:16:15.138Z"
   },
   {
    "duration": 41101,
    "start_time": "2022-02-19T18:16:15.470Z"
   },
   {
    "duration": 137,
    "start_time": "2022-02-19T18:16:56.574Z"
   },
   {
    "duration": 108,
    "start_time": "2022-02-19T18:16:56.715Z"
   },
   {
    "duration": 6,
    "start_time": "2022-02-19T18:16:56.825Z"
   },
   {
    "duration": 11,
    "start_time": "2022-02-19T18:16:56.834Z"
   },
   {
    "duration": 105,
    "start_time": "2022-02-19T18:16:56.848Z"
   },
   {
    "duration": 1275,
    "start_time": "2022-02-19T18:16:56.956Z"
   },
   {
    "duration": 1353,
    "start_time": "2022-02-19T18:17:24.791Z"
   },
   {
    "duration": 42,
    "start_time": "2022-02-19T18:17:52.192Z"
   },
   {
    "duration": 61,
    "start_time": "2022-02-19T18:19:11.131Z"
   },
   {
    "duration": 106,
    "start_time": "2022-02-19T18:25:22.307Z"
   },
   {
    "duration": 1310,
    "start_time": "2022-02-19T18:27:35.144Z"
   },
   {
    "duration": 73,
    "start_time": "2022-02-19T18:27:36.456Z"
   },
   {
    "duration": 11,
    "start_time": "2022-02-19T18:27:36.533Z"
   },
   {
    "duration": 8,
    "start_time": "2022-02-19T18:27:36.547Z"
   },
   {
    "duration": 9,
    "start_time": "2022-02-19T18:27:36.557Z"
   },
   {
    "duration": 53,
    "start_time": "2022-02-19T18:27:36.569Z"
   },
   {
    "duration": 17,
    "start_time": "2022-02-19T18:27:36.625Z"
   },
   {
    "duration": 33,
    "start_time": "2022-02-19T18:27:36.647Z"
   },
   {
    "duration": 32,
    "start_time": "2022-02-19T18:27:36.682Z"
   },
   {
    "duration": 13,
    "start_time": "2022-02-19T18:27:36.717Z"
   },
   {
    "duration": 5,
    "start_time": "2022-02-19T18:27:36.732Z"
   },
   {
    "duration": 23,
    "start_time": "2022-02-19T18:27:36.742Z"
   },
   {
    "duration": 45,
    "start_time": "2022-02-19T18:27:36.768Z"
   },
   {
    "duration": 35,
    "start_time": "2022-02-19T18:27:36.816Z"
   },
   {
    "duration": 23,
    "start_time": "2022-02-19T18:27:36.853Z"
   },
   {
    "duration": 39,
    "start_time": "2022-02-19T18:27:36.878Z"
   },
   {
    "duration": 331,
    "start_time": "2022-02-19T18:27:36.920Z"
   },
   {
    "duration": 40426,
    "start_time": "2022-02-19T18:27:37.254Z"
   },
   {
    "duration": 52,
    "start_time": "2022-02-19T18:28:17.682Z"
   },
   {
    "duration": 113,
    "start_time": "2022-02-19T18:28:17.813Z"
   },
   {
    "duration": 6,
    "start_time": "2022-02-19T18:28:17.928Z"
   },
   {
    "duration": 9,
    "start_time": "2022-02-19T18:28:17.936Z"
   },
   {
    "duration": 73,
    "start_time": "2022-02-19T18:28:17.950Z"
   },
   {
    "duration": 1330,
    "start_time": "2022-02-19T18:28:18.026Z"
   },
   {
    "duration": 65,
    "start_time": "2022-02-19T18:28:19.359Z"
   },
   {
    "duration": 146,
    "start_time": "2022-02-19T18:28:19.513Z"
   },
   {
    "duration": 1797,
    "start_time": "2022-02-19T18:35:43.598Z"
   },
   {
    "duration": 69,
    "start_time": "2022-02-19T18:35:45.398Z"
   },
   {
    "duration": 11,
    "start_time": "2022-02-19T18:35:45.470Z"
   },
   {
    "duration": 8,
    "start_time": "2022-02-19T18:35:45.484Z"
   },
   {
    "duration": 21,
    "start_time": "2022-02-19T18:35:45.495Z"
   },
   {
    "duration": 16,
    "start_time": "2022-02-19T18:35:45.519Z"
   },
   {
    "duration": 18,
    "start_time": "2022-02-19T18:35:45.538Z"
   },
   {
    "duration": 67,
    "start_time": "2022-02-19T18:35:45.559Z"
   },
   {
    "duration": 7,
    "start_time": "2022-02-19T18:35:45.629Z"
   },
   {
    "duration": 12,
    "start_time": "2022-02-19T18:35:45.638Z"
   },
   {
    "duration": 5,
    "start_time": "2022-02-19T18:35:45.652Z"
   },
   {
    "duration": 12,
    "start_time": "2022-02-19T18:35:45.659Z"
   },
   {
    "duration": 15,
    "start_time": "2022-02-19T18:35:45.711Z"
   },
   {
    "duration": 26,
    "start_time": "2022-02-19T18:35:45.729Z"
   },
   {
    "duration": 15,
    "start_time": "2022-02-19T18:35:45.758Z"
   },
   {
    "duration": 45,
    "start_time": "2022-02-19T18:35:45.775Z"
   },
   {
    "duration": 310,
    "start_time": "2022-02-19T18:35:45.823Z"
   },
   {
    "duration": 40792,
    "start_time": "2022-02-19T18:35:46.135Z"
   },
   {
    "duration": 83,
    "start_time": "2022-02-19T18:36:26.930Z"
   },
   {
    "duration": 109,
    "start_time": "2022-02-19T18:36:27.016Z"
   },
   {
    "duration": 5,
    "start_time": "2022-02-19T18:36:27.128Z"
   },
   {
    "duration": 11,
    "start_time": "2022-02-19T18:36:27.136Z"
   },
   {
    "duration": 77,
    "start_time": "2022-02-19T18:36:27.153Z"
   },
   {
    "duration": 1340,
    "start_time": "2022-02-19T18:36:27.233Z"
   },
   {
    "duration": 59,
    "start_time": "2022-02-19T18:36:28.576Z"
   },
   {
    "duration": 222,
    "start_time": "2022-02-19T18:36:28.638Z"
   },
   {
    "duration": 936,
    "start_time": "2022-02-19T18:41:40.501Z"
   },
   {
    "duration": 30,
    "start_time": "2022-02-19T18:43:12.566Z"
   },
   {
    "duration": 881,
    "start_time": "2022-02-19T18:43:17.245Z"
   },
   {
    "duration": 35,
    "start_time": "2022-02-19T18:44:21.483Z"
   },
   {
    "duration": 37,
    "start_time": "2022-02-19T18:44:38.111Z"
   },
   {
    "duration": 524,
    "start_time": "2022-02-19T18:50:10.498Z"
   },
   {
    "duration": 5,
    "start_time": "2022-02-19T18:50:36.959Z"
   },
   {
    "duration": 419,
    "start_time": "2022-02-19T18:50:41.583Z"
   },
   {
    "duration": 117,
    "start_time": "2022-02-19T18:51:02.253Z"
   },
   {
    "duration": 278,
    "start_time": "2022-02-19T18:51:14.685Z"
   },
   {
    "duration": 344,
    "start_time": "2022-02-19T18:52:11.493Z"
   },
   {
    "duration": 486,
    "start_time": "2022-02-19T18:52:58.834Z"
   },
   {
    "duration": 588,
    "start_time": "2022-02-19T18:53:23.592Z"
   },
   {
    "duration": 336,
    "start_time": "2022-02-19T18:53:59.457Z"
   },
   {
    "duration": 270,
    "start_time": "2022-02-19T19:24:53.890Z"
   },
   {
    "duration": 5,
    "start_time": "2022-02-19T19:26:17.838Z"
   },
   {
    "duration": 8,
    "start_time": "2022-02-19T19:27:52.439Z"
   },
   {
    "duration": 1976,
    "start_time": "2022-02-19T19:28:36.421Z"
   },
   {
    "duration": 179,
    "start_time": "2022-02-19T19:28:38.400Z"
   },
   {
    "duration": 12,
    "start_time": "2022-02-19T19:28:38.586Z"
   },
   {
    "duration": 9,
    "start_time": "2022-02-19T19:28:38.601Z"
   },
   {
    "duration": 11,
    "start_time": "2022-02-19T19:28:38.612Z"
   },
   {
    "duration": 16,
    "start_time": "2022-02-19T19:28:38.626Z"
   },
   {
    "duration": 18,
    "start_time": "2022-02-19T19:28:38.646Z"
   },
   {
    "duration": 65,
    "start_time": "2022-02-19T19:28:38.667Z"
   },
   {
    "duration": 7,
    "start_time": "2022-02-19T19:28:38.735Z"
   },
   {
    "duration": 12,
    "start_time": "2022-02-19T19:28:38.744Z"
   },
   {
    "duration": 5,
    "start_time": "2022-02-19T19:28:38.758Z"
   },
   {
    "duration": 51,
    "start_time": "2022-02-19T19:28:38.766Z"
   },
   {
    "duration": 15,
    "start_time": "2022-02-19T19:28:38.819Z"
   },
   {
    "duration": 27,
    "start_time": "2022-02-19T19:28:38.837Z"
   },
   {
    "duration": 54,
    "start_time": "2022-02-19T19:28:38.867Z"
   },
   {
    "duration": 18,
    "start_time": "2022-02-19T19:28:38.923Z"
   },
   {
    "duration": 341,
    "start_time": "2022-02-19T19:28:38.944Z"
   },
   {
    "duration": 53223,
    "start_time": "2022-02-19T19:28:39.288Z"
   },
   {
    "duration": 199,
    "start_time": "2022-02-19T19:29:32.513Z"
   },
   {
    "duration": 19,
    "start_time": "2022-02-19T19:29:32.715Z"
   },
   {
    "duration": 5,
    "start_time": "2022-02-19T19:29:32.736Z"
   },
   {
    "duration": 8,
    "start_time": "2022-02-19T19:29:32.746Z"
   },
   {
    "duration": 83,
    "start_time": "2022-02-19T19:29:32.756Z"
   },
   {
    "duration": 1356,
    "start_time": "2022-02-19T19:29:32.842Z"
   },
   {
    "duration": 122,
    "start_time": "2022-02-19T19:29:34.201Z"
   },
   {
    "duration": 32,
    "start_time": "2022-02-19T19:29:34.411Z"
   },
   {
    "duration": 954,
    "start_time": "2022-02-19T19:29:34.446Z"
   },
   {
    "duration": 109,
    "start_time": "2022-02-19T19:29:35.403Z"
   },
   {
    "duration": 386,
    "start_time": "2022-02-19T19:29:35.515Z"
   },
   {
    "duration": 13,
    "start_time": "2022-02-19T19:29:35.903Z"
   },
   {
    "duration": 351,
    "start_time": "2022-02-19T19:29:35.918Z"
   },
   {
    "duration": 9,
    "start_time": "2022-02-19T19:29:36.271Z"
   },
   {
    "duration": 475,
    "start_time": "2022-02-19T19:29:36.282Z"
   },
   {
    "duration": 9,
    "start_time": "2022-02-19T19:29:36.759Z"
   },
   {
    "duration": 2429,
    "start_time": "2022-02-19T20:38:12.841Z"
   },
   {
    "duration": 56,
    "start_time": "2022-02-19T20:38:15.273Z"
   },
   {
    "duration": 13,
    "start_time": "2022-02-19T20:38:15.332Z"
   },
   {
    "duration": 9,
    "start_time": "2022-02-19T20:38:15.348Z"
   },
   {
    "duration": 10,
    "start_time": "2022-02-19T20:38:15.360Z"
   },
   {
    "duration": 55,
    "start_time": "2022-02-19T20:38:15.372Z"
   },
   {
    "duration": 28,
    "start_time": "2022-02-19T20:38:15.429Z"
   },
   {
    "duration": 54,
    "start_time": "2022-02-19T20:38:15.461Z"
   },
   {
    "duration": 9,
    "start_time": "2022-02-19T20:38:15.518Z"
   },
   {
    "duration": 13,
    "start_time": "2022-02-19T20:38:15.529Z"
   },
   {
    "duration": 6,
    "start_time": "2022-02-19T20:38:15.544Z"
   },
   {
    "duration": 11,
    "start_time": "2022-02-19T20:38:15.553Z"
   },
   {
    "duration": 61,
    "start_time": "2022-02-19T20:38:15.566Z"
   },
   {
    "duration": 27,
    "start_time": "2022-02-19T20:38:15.630Z"
   },
   {
    "duration": 16,
    "start_time": "2022-02-19T20:38:15.660Z"
   },
   {
    "duration": 43,
    "start_time": "2022-02-19T20:38:15.679Z"
   },
   {
    "duration": 324,
    "start_time": "2022-02-19T20:38:15.724Z"
   },
   {
    "duration": 40313,
    "start_time": "2022-02-19T20:38:16.051Z"
   },
   {
    "duration": 56,
    "start_time": "2022-02-19T20:38:56.367Z"
   },
   {
    "duration": 113,
    "start_time": "2022-02-19T20:38:56.513Z"
   },
   {
    "duration": 6,
    "start_time": "2022-02-19T20:38:56.629Z"
   },
   {
    "duration": 10,
    "start_time": "2022-02-19T20:38:56.638Z"
   },
   {
    "duration": 79,
    "start_time": "2022-02-19T20:38:56.655Z"
   },
   {
    "duration": 1310,
    "start_time": "2022-02-19T20:38:56.736Z"
   },
   {
    "duration": 162,
    "start_time": "2022-02-19T20:38:58.048Z"
   },
   {
    "duration": 125,
    "start_time": "2022-02-19T20:38:58.213Z"
   },
   {
    "duration": 960,
    "start_time": "2022-02-19T20:38:58.342Z"
   },
   {
    "duration": 106,
    "start_time": "2022-02-19T20:38:59.305Z"
   },
   {
    "duration": 398,
    "start_time": "2022-02-19T20:38:59.415Z"
   },
   {
    "duration": 9,
    "start_time": "2022-02-19T20:38:59.815Z"
   },
   {
    "duration": 351,
    "start_time": "2022-02-19T20:38:59.827Z"
   },
   {
    "duration": 9,
    "start_time": "2022-02-19T20:39:00.180Z"
   },
   {
    "duration": 465,
    "start_time": "2022-02-19T20:39:00.191Z"
   },
   {
    "duration": 10,
    "start_time": "2022-02-19T20:39:00.659Z"
   },
   {
    "duration": 1666,
    "start_time": "2022-02-20T12:55:57.028Z"
   },
   {
    "duration": 53,
    "start_time": "2022-02-20T12:55:58.697Z"
   },
   {
    "duration": 12,
    "start_time": "2022-02-20T12:55:58.753Z"
   },
   {
    "duration": 27,
    "start_time": "2022-02-20T12:55:58.768Z"
   },
   {
    "duration": 11,
    "start_time": "2022-02-20T12:55:58.797Z"
   },
   {
    "duration": 19,
    "start_time": "2022-02-20T12:55:58.810Z"
   },
   {
    "duration": 24,
    "start_time": "2022-02-20T12:55:58.833Z"
   },
   {
    "duration": 73,
    "start_time": "2022-02-20T12:55:58.862Z"
   },
   {
    "duration": 65,
    "start_time": "2022-02-20T12:55:58.938Z"
   },
   {
    "duration": 10,
    "start_time": "2022-02-20T12:55:59.006Z"
   },
   {
    "duration": 14,
    "start_time": "2022-02-20T12:55:59.019Z"
   },
   {
    "duration": 24,
    "start_time": "2022-02-20T12:55:59.035Z"
   },
   {
    "duration": 39,
    "start_time": "2022-02-20T12:55:59.062Z"
   },
   {
    "duration": 22,
    "start_time": "2022-02-20T12:55:59.104Z"
   },
   {
    "duration": 32,
    "start_time": "2022-02-20T12:55:59.129Z"
   },
   {
    "duration": 46,
    "start_time": "2022-02-20T12:55:59.164Z"
   },
   {
    "duration": 17,
    "start_time": "2022-02-20T12:55:59.213Z"
   },
   {
    "duration": 342,
    "start_time": "2022-02-20T12:55:59.233Z"
   },
   {
    "duration": 42169,
    "start_time": "2022-02-20T12:55:59.578Z"
   },
   {
    "duration": 53,
    "start_time": "2022-02-20T12:56:41.749Z"
   },
   {
    "duration": 111,
    "start_time": "2022-02-20T12:56:41.895Z"
   },
   {
    "duration": 5,
    "start_time": "2022-02-20T12:56:42.009Z"
   },
   {
    "duration": 9,
    "start_time": "2022-02-20T12:56:42.019Z"
   },
   {
    "duration": 73,
    "start_time": "2022-02-20T12:56:42.031Z"
   },
   {
    "duration": 1325,
    "start_time": "2022-02-20T12:56:42.107Z"
   },
   {
    "duration": 60,
    "start_time": "2022-02-20T12:56:43.434Z"
   },
   {
    "duration": 212,
    "start_time": "2022-02-20T12:56:43.497Z"
   },
   {
    "duration": 946,
    "start_time": "2022-02-20T12:56:43.711Z"
   },
   {
    "duration": 134,
    "start_time": "2022-02-20T12:56:44.660Z"
   },
   {
    "duration": 391,
    "start_time": "2022-02-20T12:56:44.797Z"
   },
   {
    "duration": 8,
    "start_time": "2022-02-20T12:56:45.194Z"
   },
   {
    "duration": 344,
    "start_time": "2022-02-20T12:56:45.204Z"
   },
   {
    "duration": 9,
    "start_time": "2022-02-20T12:56:45.550Z"
   },
   {
    "duration": 504,
    "start_time": "2022-02-20T12:56:45.562Z"
   },
   {
    "duration": 9,
    "start_time": "2022-02-20T12:56:46.068Z"
   },
   {
    "duration": 1851,
    "start_time": "2022-02-20T13:13:56.522Z"
   },
   {
    "duration": 125,
    "start_time": "2022-02-20T13:13:58.376Z"
   },
   {
    "duration": 12,
    "start_time": "2022-02-20T13:13:58.504Z"
   },
   {
    "duration": 9,
    "start_time": "2022-02-20T13:13:58.518Z"
   },
   {
    "duration": 12,
    "start_time": "2022-02-20T13:13:58.529Z"
   },
   {
    "duration": 60,
    "start_time": "2022-02-20T13:13:58.546Z"
   },
   {
    "duration": 27,
    "start_time": "2022-02-20T13:13:58.610Z"
   },
   {
    "duration": 75,
    "start_time": "2022-02-20T13:13:58.640Z"
   },
   {
    "duration": 85,
    "start_time": "2022-02-20T13:13:58.718Z"
   },
   {
    "duration": 7,
    "start_time": "2022-02-20T13:13:58.805Z"
   },
   {
    "duration": 13,
    "start_time": "2022-02-20T13:13:58.815Z"
   },
   {
    "duration": 6,
    "start_time": "2022-02-20T13:13:58.830Z"
   },
   {
    "duration": 56,
    "start_time": "2022-02-20T13:13:58.839Z"
   },
   {
    "duration": 16,
    "start_time": "2022-02-20T13:13:58.898Z"
   },
   {
    "duration": 28,
    "start_time": "2022-02-20T13:13:58.917Z"
   },
   {
    "duration": 46,
    "start_time": "2022-02-20T13:13:58.947Z"
   },
   {
    "duration": 15,
    "start_time": "2022-02-20T13:13:58.996Z"
   },
   {
    "duration": 355,
    "start_time": "2022-02-20T13:13:59.016Z"
   },
   {
    "duration": 40339,
    "start_time": "2022-02-20T13:13:59.374Z"
   },
   {
    "duration": 89,
    "start_time": "2022-02-20T13:14:39.715Z"
   },
   {
    "duration": 105,
    "start_time": "2022-02-20T13:14:39.807Z"
   },
   {
    "duration": 6,
    "start_time": "2022-02-20T13:14:39.914Z"
   },
   {
    "duration": 9,
    "start_time": "2022-02-20T13:14:39.923Z"
   },
   {
    "duration": 18,
    "start_time": "2022-02-20T13:14:39.934Z"
   },
   {
    "duration": 5,
    "start_time": "2022-02-20T13:14:39.995Z"
   },
   {
    "duration": 13,
    "start_time": "2022-02-20T13:14:40.003Z"
   },
   {
    "duration": 39,
    "start_time": "2022-02-20T13:14:40.019Z"
   },
   {
    "duration": 1395,
    "start_time": "2022-02-20T13:14:40.060Z"
   },
   {
    "duration": 139,
    "start_time": "2022-02-20T13:14:41.458Z"
   },
   {
    "duration": 117,
    "start_time": "2022-02-20T13:14:41.601Z"
   },
   {
    "duration": 950,
    "start_time": "2022-02-20T13:14:41.721Z"
   },
   {
    "duration": 56,
    "start_time": "2022-02-20T13:14:42.674Z"
   },
   {
    "duration": 400,
    "start_time": "2022-02-20T13:14:42.795Z"
   },
   {
    "duration": 10,
    "start_time": "2022-02-20T13:14:43.197Z"
   },
   {
    "duration": 356,
    "start_time": "2022-02-20T13:14:43.210Z"
   },
   {
    "duration": 27,
    "start_time": "2022-02-20T13:14:43.569Z"
   },
   {
    "duration": 601,
    "start_time": "2022-02-20T13:14:43.599Z"
   },
   {
    "duration": 11,
    "start_time": "2022-02-20T13:14:44.203Z"
   },
   {
    "duration": 454,
    "start_time": "2022-02-20T13:26:06.259Z"
   },
   {
    "duration": 173,
    "start_time": "2022-02-20T13:32:42.694Z"
   },
   {
    "duration": 56489,
    "start_time": "2022-02-20T13:54:19.640Z"
   },
   {
    "duration": 26144,
    "start_time": "2022-02-20T13:55:25.486Z"
   },
   {
    "duration": 24,
    "start_time": "2022-02-20T13:59:54.468Z"
   },
   {
    "duration": 21,
    "start_time": "2022-02-20T14:07:45.679Z"
   },
   {
    "duration": 19,
    "start_time": "2022-02-20T14:07:57.899Z"
   },
   {
    "duration": 24,
    "start_time": "2022-02-20T14:08:39.308Z"
   },
   {
    "duration": 280,
    "start_time": "2022-02-20T14:08:49.476Z"
   },
   {
    "duration": 8,
    "start_time": "2022-02-20T14:08:53.472Z"
   },
   {
    "duration": 480,
    "start_time": "2022-02-20T14:08:58.463Z"
   },
   {
    "duration": 11,
    "start_time": "2022-02-20T14:09:05.188Z"
   },
   {
    "duration": 6,
    "start_time": "2022-02-20T14:09:39.875Z"
   },
   {
    "duration": 437,
    "start_time": "2022-02-20T14:11:55.105Z"
   },
   {
    "duration": 341,
    "start_time": "2022-02-20T14:12:24.436Z"
   },
   {
    "duration": 1481,
    "start_time": "2022-02-20T14:14:04.717Z"
   },
   {
    "duration": 52,
    "start_time": "2022-02-20T14:14:06.204Z"
   },
   {
    "duration": 12,
    "start_time": "2022-02-20T14:14:06.259Z"
   },
   {
    "duration": 25,
    "start_time": "2022-02-20T14:14:06.274Z"
   },
   {
    "duration": 11,
    "start_time": "2022-02-20T14:14:06.301Z"
   },
   {
    "duration": 17,
    "start_time": "2022-02-20T14:14:06.314Z"
   },
   {
    "duration": 19,
    "start_time": "2022-02-20T14:14:06.333Z"
   },
   {
    "duration": 74,
    "start_time": "2022-02-20T14:14:06.355Z"
   },
   {
    "duration": 78,
    "start_time": "2022-02-20T14:14:06.432Z"
   },
   {
    "duration": 8,
    "start_time": "2022-02-20T14:14:06.512Z"
   },
   {
    "duration": 23,
    "start_time": "2022-02-20T14:14:06.522Z"
   },
   {
    "duration": 19,
    "start_time": "2022-02-20T14:14:06.548Z"
   },
   {
    "duration": 25,
    "start_time": "2022-02-20T14:14:06.570Z"
   },
   {
    "duration": 16,
    "start_time": "2022-02-20T14:14:06.597Z"
   },
   {
    "duration": 37,
    "start_time": "2022-02-20T14:14:06.615Z"
   },
   {
    "duration": 16,
    "start_time": "2022-02-20T14:14:06.654Z"
   },
   {
    "duration": 10,
    "start_time": "2022-02-20T14:14:06.693Z"
   },
   {
    "duration": 342,
    "start_time": "2022-02-20T14:14:06.705Z"
   },
   {
    "duration": 39893,
    "start_time": "2022-02-20T14:14:07.050Z"
   },
   {
    "duration": 149,
    "start_time": "2022-02-20T14:14:46.946Z"
   },
   {
    "duration": 108,
    "start_time": "2022-02-20T14:14:47.098Z"
   },
   {
    "duration": 5,
    "start_time": "2022-02-20T14:14:47.209Z"
   },
   {
    "duration": 11,
    "start_time": "2022-02-20T14:14:47.219Z"
   },
   {
    "duration": 31,
    "start_time": "2022-02-20T14:14:47.232Z"
   },
   {
    "duration": 32,
    "start_time": "2022-02-20T14:14:47.266Z"
   },
   {
    "duration": 25,
    "start_time": "2022-02-20T14:14:47.301Z"
   },
   {
    "duration": 453,
    "start_time": "2022-02-20T14:14:47.328Z"
   },
   {
    "duration": 177,
    "start_time": "2022-02-20T14:14:47.784Z"
   },
   {
    "duration": 1327,
    "start_time": "2022-02-20T14:14:47.964Z"
   },
   {
    "duration": 57487,
    "start_time": "2022-02-20T14:14:49.295Z"
   },
   {
    "duration": 24290,
    "start_time": "2022-02-20T14:15:46.785Z"
   },
   {
    "duration": 120,
    "start_time": "2022-02-20T14:16:11.077Z"
   },
   {
    "duration": 114,
    "start_time": "2022-02-20T14:16:11.200Z"
   },
   {
    "duration": 111,
    "start_time": "2022-02-20T14:16:11.397Z"
   },
   {
    "duration": 925,
    "start_time": "2022-02-20T14:16:11.510Z"
   },
   {
    "duration": 57,
    "start_time": "2022-02-20T14:16:12.438Z"
   },
   {
    "duration": 381,
    "start_time": "2022-02-20T14:16:12.499Z"
   },
   {
    "duration": 13,
    "start_time": "2022-02-20T14:16:12.882Z"
   },
   {
    "duration": 272,
    "start_time": "2022-02-20T14:16:12.897Z"
   },
   {
    "duration": 351,
    "start_time": "2022-02-20T14:16:13.171Z"
   },
   {
    "duration": 11,
    "start_time": "2022-02-20T14:16:13.525Z"
   },
   {
    "duration": 295,
    "start_time": "2022-02-20T14:16:13.539Z"
   },
   {
    "duration": 524,
    "start_time": "2022-02-20T14:16:13.837Z"
   },
   {
    "duration": 11,
    "start_time": "2022-02-20T14:16:14.364Z"
   },
   {
    "duration": 336,
    "start_time": "2022-02-20T14:16:14.394Z"
   }
  ],
  "kernelspec": {
   "display_name": "Python 3 (ipykernel)",
   "language": "python",
   "name": "python3"
  },
  "language_info": {
   "codemirror_mode": {
    "name": "ipython",
    "version": 3
   },
   "file_extension": ".py",
   "mimetype": "text/x-python",
   "name": "python",
   "nbconvert_exporter": "python",
   "pygments_lexer": "ipython3",
   "version": "3.9.13"
  },
  "toc": {
   "base_numbering": 1,
   "nav_menu": {},
   "number_sections": true,
   "sideBar": true,
   "skip_h1_title": true,
   "title_cell": "Содержание",
   "title_sidebar": "Contents",
   "toc_cell": true,
   "toc_position": {
    "height": "calc(100% - 180px)",
    "left": "10px",
    "top": "150px",
    "width": "286.225px"
   },
   "toc_section_display": true,
   "toc_window_display": true
  }
 },
 "nbformat": 4,
 "nbformat_minor": 2
}
